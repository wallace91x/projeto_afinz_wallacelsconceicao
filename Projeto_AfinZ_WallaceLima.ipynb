{
  "nbformat": 4,
  "nbformat_minor": 0,
  "metadata": {
    "colab": {
      "provenance": [],
      "collapsed_sections": [
        "0fm9R43m5pGV",
        "fL_UeoR-hJRa"
      ],
      "authorship_tag": "ABX9TyN62o9dLdNliselmPlAQXK2",
      "include_colab_link": true
    },
    "kernelspec": {
      "name": "python3",
      "display_name": "Python 3"
    },
    "language_info": {
      "name": "python"
    }
  },
  "cells": [
    {
      "cell_type": "markdown",
      "metadata": {
        "id": "view-in-github",
        "colab_type": "text"
      },
      "source": [
        "<a href=\"https://colab.research.google.com/github/wallace91x/projeto_afinz_wallacelsconceicao/blob/main/Projeto_AfinZ_WallaceLima.ipynb\" target=\"_parent\"><img src=\"https://colab.research.google.com/assets/colab-badge.svg\" alt=\"Open In Colab\"/></a>"
      ]
    },
    {
      "cell_type": "markdown",
      "source": [
        "## **Processo Seletivo Área de Crédito - MIS - Management Information System**\n",
        "#### Candidato: Wallace de Lima da Silva Conceição\n",
        "#### Afinz - Gerente Thiago Arruda Schumacker\n",
        "\n",
        "\n"
      ],
      "metadata": {
        "id": "MvLa0USBU64b"
      }
    },
    {
      "cell_type": "markdown",
      "source": [
        "##### O Intuito deste notebook não é somente demonstrar a parte analítica do case, mas também demonstrar toda pipeline de dados e processo ETL de dados. Escolhi fazer desta forma para desmontrar valências buscadas hoje e mencionadas por mim na entrevista.\n",
        "\n",
        "\n",
        "##### O notebook consiste em sete etapas:\n",
        "1.   ***Conexão em Data Base criada dentro da AWS.***\n",
        "2.   ***Criação de tabelas SQL em instância PostgreSQL.***\n",
        "3.   ***Adaptação do código Oracle para PostgreSQL - Por problemas de software.***\n",
        "4.   ***Injeção de dados via Python e persistência dos mesmos no DB.***\n",
        "5.   ***Análise de dados e criação de KPI's via SQL (Queries).***\n",
        "6.   ***Criação de Gráficos para dataviz.***\n",
        "7.   ***Considerações Finais e descrição de insights***.\n",
        "\n",
        "\n"
      ],
      "metadata": {
        "id": "xXqJDgXcV6Yk"
      }
    },
    {
      "cell_type": "markdown",
      "source": [
        "### **Etapa de Injeção de dados via Python e SQL no DB AWS**\n",
        "\n",
        "##### *Obs.: Realizei a construção de tabelas na AWS seguindo o código enviado para injeção de dados em SQL e a análise dos mesmos dados nesse notebook. Enfrentei dificuldades na instalação e configuração do Oracle em meu computador (ambiente local) e na conexão via Oracle Cloud, bancos que utilizam a sintaxe Oracle SQL enviada. Por esse motivo, tomei a liberdade de manter a mesma estrutura de dados, adaptando apenas a sintaxe para execução em PostgreSQL SQL, hospedado na AWS*\n"
      ],
      "metadata": {
        "id": "0fm9R43m5pGV"
      }
    },
    {
      "cell_type": "code",
      "execution_count": 2,
      "metadata": {
        "colab": {
          "base_uri": "https://localhost:8080/"
        },
        "id": "yh37cC1_5JWv",
        "outputId": "07e3cb84-205f-4583-d048-d00f5a9d239f"
      },
      "outputs": [
        {
          "output_type": "stream",
          "name": "stdout",
          "text": [
            "\u001b[?25l   \u001b[90m━━━━━━━━━━━━━━━━━━━━━━━━━━━━━━━━━━━━━━━━\u001b[0m \u001b[32m0.0/3.0 MB\u001b[0m \u001b[31m?\u001b[0m eta \u001b[36m-:--:--\u001b[0m\r\u001b[2K   \u001b[91m━━━━━\u001b[0m\u001b[91m╸\u001b[0m\u001b[90m━━━━━━━━━━━━━━━━━━━━━━━━━━━━━━━━━━\u001b[0m \u001b[32m0.4/3.0 MB\u001b[0m \u001b[31m12.7 MB/s\u001b[0m eta \u001b[36m0:00:01\u001b[0m\r\u001b[2K   \u001b[91m━━━━━━━━━━━━━━━━━━━━━━━━━━━━━━━━━━━━━━━\u001b[0m\u001b[91m╸\u001b[0m \u001b[32m3.0/3.0 MB\u001b[0m \u001b[31m53.6 MB/s\u001b[0m eta \u001b[36m0:00:01\u001b[0m\r\u001b[2K   \u001b[90m━━━━━━━━━━━━━━━━━━━━━━━━━━━━━━━━━━━━━━━━\u001b[0m \u001b[32m3.0/3.0 MB\u001b[0m \u001b[31m39.7 MB/s\u001b[0m eta \u001b[36m0:00:00\u001b[0m\n",
            "\u001b[?25hConexão realizada com o PostgreSQL na AWS.\n"
          ]
        }
      ],
      "source": [
        "# Instalação de pacotes necessários à análise\n",
        "!pip install psycopg2-binary sqlalchemy pandas numpy matplotlib -q\n",
        "\n",
        "import psycopg2\n",
        "\n",
        "# Configurações para acesso ao banco de dados AWS\n",
        "host = \"database-afinz.c1cy0qq8ogtr.us-east-2.rds.amazonaws.com\"\n",
        "port = 5432\n",
        "dbname = \"postgres\"\n",
        "user = \"wallacevpg\"\n",
        "password = \"2013Vasco*8\"\n",
        "\n",
        "# Teste de conexão\n",
        "try:\n",
        "    conn = psycopg2.connect(host=host, port=port, dbname=dbname, user=user, password=password)\n",
        "    print(\"Conexão realizada com o PostgreSQL na AWS.\")\n",
        "except Exception as e:\n",
        "    print(\"Erro de conexão:\", e)\n"
      ]
    },
    {
      "cell_type": "markdown",
      "source": [
        "#### **Com a conexão realizada após configuração do AWS Cloud iremos para a injeção de dados queoptei ser feita aqui neste notebook utilizando Python + SQL.**"
      ],
      "metadata": {
        "id": "wy-Tfti3B1q9"
      }
    },
    {
      "cell_type": "markdown",
      "source": [
        "###### Parte 1 - Criação das tabelas"
      ],
      "metadata": {
        "id": "Pr4K1vqHIpDE"
      }
    },
    {
      "cell_type": "code",
      "source": [
        "#Criação das Tabelas no AWS\n",
        "\n",
        "# FK teve de ser alterada em propostas para referenciar a FK em Carteira\n",
        "create_tables_sql = \"\"\"\n",
        "DROP TABLE IF EXISTS BTESTESQL_PROPOSTAS CASCADE;\n",
        "CREATE TABLE BTESTESQL_PROPOSTAS (\n",
        "    DATA_PROPOSTA DATE NOT NULL,\n",
        "    ID_PROPOSTA NUMERIC PRIMARY KEY,\n",
        "    STATUS VARCHAR(10) NOT NULL,\n",
        "    ID_MOTIVO_REPROVACAO NUMERIC,\n",
        "    SCORE NUMERIC,\n",
        "    ID_LOJA VARCHAR(6) NOT NULL,\n",
        "    ID_CONTA VARCHAR(16) UNIQUE,\n",
        "    LIMITE NUMERIC\n",
        ");\n",
        "\n",
        "DROP TABLE IF EXISTS BTESTESQL_FX_SCORE CASCADE;\n",
        "CREATE TABLE BTESTESQL_FX_SCORE (\n",
        "    SCORE_INICIO NUMERIC NOT NULL,\n",
        "    SCORE_FIM NUMERIC NOT NULL,\n",
        "    FX_SCORE VARCHAR(8) NOT NULL\n",
        ");\n",
        "\n",
        "DROP TABLE IF EXISTS BTESTESQL_MOTIVO_REPROV CASCADE;\n",
        "CREATE TABLE BTESTESQL_MOTIVO_REPROV (\n",
        "    ID_MOTIVO_REPROVACAO NUMERIC PRIMARY KEY,\n",
        "    DESCRICAO VARCHAR(20) NOT NULL,\n",
        "    ID_BUREAU NUMERIC\n",
        ");\n",
        "\n",
        "DROP TABLE IF EXISTS BTESTESQL_BUREAU CASCADE;\n",
        "CREATE TABLE BTESTESQL_BUREAU (\n",
        "    ID_BUREAU NUMERIC PRIMARY KEY,\n",
        "    DESCRICAO VARCHAR(8) NOT NULL\n",
        ");\n",
        "\n",
        "DROP TABLE IF EXISTS BTESTESQL_LOJA CASCADE;\n",
        "CREATE TABLE BTESTESQL_LOJA (\n",
        "    ID_LOJA VARCHAR(6) PRIMARY KEY,\n",
        "    RAMO_SISTEMA VARCHAR(10) NOT NULL,\n",
        "    LOJA_UF VARCHAR(2) NOT NULL,\n",
        "    LOJA_REGIAO VARCHAR(12) NOT NULL\n",
        ");\n",
        "\n",
        "DROP TABLE IF EXISTS BTESTESQL_TRANSACOES CASCADE;\n",
        "CREATE TABLE BTESTESQL_TRANSACOES (\n",
        "    ID_CONTA VARCHAR(16) NOT NULL,\n",
        "    ID_TRANSACAO NUMERIC PRIMARY KEY,\n",
        "    DATA_TRANSACAO DATE NOT NULL,\n",
        "    VALOR NUMERIC NOT NULL\n",
        ");\n",
        "\n",
        "DROP TABLE IF EXISTS BTESTESQL_CARTEIRA CASCADE;\n",
        "CREATE TABLE BTESTESQL_CARTEIRA (\n",
        "    REFERENCIA DATE NOT NULL,\n",
        "    ID_CONTA VARCHAR(16) NOT NULL,\n",
        "    VCTO_NAO_PAGO DATE,\n",
        "    ATRASO NUMERIC NOT NULL,\n",
        "    SALDO NUMERIC NOT NULL,\n",
        "    PRIMARY KEY (REFERENCIA, ID_CONTA)\n",
        ");\n",
        "\"\"\"\n",
        "\n",
        "# Nova conexão ao banco para execução do script\n",
        "try:\n",
        "    conn = psycopg2.connect(\n",
        "        host=host,\n",
        "        port=port,\n",
        "        dbname=dbname,\n",
        "        user=user,\n",
        "        password=password\n",
        "    )\n",
        "    cursor = conn.cursor()\n",
        "    cursor.execute(create_tables_sql)\n",
        "    conn.commit()\n",
        "    print(\"Todas as tabelas BTESTESQL foram recriadas com sucesso no RDS PostgreSQL AWS!\")\n",
        "except Exception as e:\n",
        "    print(\"Erro ao criar tabelas, verificar:\", e)\n",
        "finally:\n",
        "    cursor.close()\n",
        "    conn.close()"
      ],
      "metadata": {
        "colab": {
          "base_uri": "https://localhost:8080/"
        },
        "id": "GLS7ZgyECDDU",
        "outputId": "85a5124f-b5d9-4d4e-c2b9-e750de26279e"
      },
      "execution_count": 3,
      "outputs": [
        {
          "output_type": "stream",
          "name": "stdout",
          "text": [
            "Todas as tabelas BTESTESQL foram recriadas com sucesso no RDS PostgreSQL AWS!\n"
          ]
        }
      ]
    },
    {
      "cell_type": "code",
      "source": [
        "# Verificação se as tabelas foram realmente criadas.\n",
        "conn = psycopg2.connect(\n",
        "    host=\"database-afinz.c1cy0qq8ogtr.us-east-2.rds.amazonaws.com\",\n",
        "    port=5432,\n",
        "    dbname=\"postgres\",\n",
        "    user=\"wallacevpg\",\n",
        "    password=\"2013Vasco*8\"\n",
        ")\n",
        "cursor = conn.cursor()\n",
        "cursor.execute(\"\"\"\n",
        "SELECT table_name\n",
        "FROM information_schema.tables\n",
        "WHERE table_schema = 'public';\n",
        "\"\"\")\n",
        "\n",
        "tabelas = cursor.fetchall()\n",
        "print(\"Tabelas no DB:\")\n",
        "for t in tabelas:\n",
        "    print(\"-\", t[0])\n",
        "\n",
        "\n"
      ],
      "metadata": {
        "colab": {
          "base_uri": "https://localhost:8080/"
        },
        "id": "SFyrsPkrGdv3",
        "outputId": "eab04c57-62cf-4343-9afb-2ee81c5cd59a"
      },
      "execution_count": 4,
      "outputs": [
        {
          "output_type": "stream",
          "name": "stdout",
          "text": [
            "Tabelas no DB:\n",
            "- btestesql_bureau\n",
            "- btestesql_loja\n",
            "- btestesql_transacoes\n",
            "- btestesql_carteira\n",
            "- btestesql_propostas\n",
            "- btestesql_fx_score\n",
            "- btestesql_motivo_reprov\n"
          ]
        }
      ]
    },
    {
      "cell_type": "markdown",
      "source": [
        "##### Parte 2 - Injeção dos dados\n"
      ],
      "metadata": {
        "id": "8u79iq30ItY6"
      }
    },
    {
      "cell_type": "code",
      "source": [
        "# Parte de injeção dos dados com alteração somente da sintaxe do SQL para Postgree\n",
        "\n",
        "#Limpeza de dados da tabela se houver\n",
        "\n",
        "cursor.execute(\"\"\"\n",
        "TRUNCATE TABLE\n",
        "    btestesql_propostas,\n",
        "    btestesql_carteira,\n",
        "    btestesql_transacoes,\n",
        "    btestesql_loja,\n",
        "    btestesql_motivo_reprov,\n",
        "    btestesql_fx_score,\n",
        "    btestesql_bureau\n",
        "RESTART IDENTITY CASCADE;\n",
        "\"\"\")\n",
        "conn.commit()\n",
        "\n",
        "# Preparação dos dados\n",
        "\n",
        "from datetime import datetime\n",
        "\n",
        "# Função para converção de data\n",
        "def conv_data(data_str):\n",
        "    return datetime.strptime(data_str, '%d/%m/%y').date()\n",
        "\n",
        "dados_transacoes = [('4092810006145568',10000001,conv_data('03/11/23'),3000),\n",
        "       ('4092810006932668',10000002,conv_data('08/11/23'),87.9),\n",
        "       ('4092810006932668',10000003,conv_data('07/11/23'),300),\n",
        "       ('4092810006932668',10000004,conv_data('14/11/23'),2000.04),\n",
        "       ('4092810006932668',10000005,conv_data('23/11/23'),81.82),\n",
        "       ('4092810006932668',10000006,conv_data('01/12/23'),17.45),\n",
        "       ('4092810007601833',10000007,conv_data('26/01/24'),36),\n",
        "       ('4092810007509507',10000008,conv_data('22/11/23'),1500),\n",
        "       ('4092810007509507',10000009,conv_data('08/12/23'),1200),\n",
        "       ('4092810007536914',10000010,conv_data('16/11/23'),419),\n",
        "       ('4092810007536914',10000011,conv_data('06/12/23'),124.96),\n",
        "       ('4092810007536914',10000012,conv_data('05/12/23'),250),\n",
        "       ('4092810007536914',10000013,conv_data('16/12/23'),24),\n",
        "       ('4092810007601833',10000014,conv_data('11/11/23'),4219),\n",
        "       ('4092810007601833',10000015,conv_data('25/01/24'),35),\n",
        "       ('4092810007601833',10000016,conv_data('25/01/24'),281.45),\n",
        "       ('4092810007601833',10000017,conv_data('26/01/24'),58),\n",
        "       ('4092810008365719',10000018,conv_data('28/11/23'),37.69),\n",
        "       ('4092810008365719',10000019,conv_data('07/12/23'),120),\n",
        "       ('4092810008365719',10000020,conv_data('04/12/23'),461.36),\n",
        "       ('4092810008365719',10000021,conv_data('19/12/23'),100.86),\n",
        "       ('4092810008365719',10000022,conv_data('19/12/23'),163.2),\n",
        "       ('4092810007753014',10000023,conv_data('14/11/23'),2500.44),\n",
        "       ('4092810008124850',10000024,conv_data('24/11/23'),540),\n",
        "       ('4092810008124850',10000025,conv_data('22/11/23'),1959.24),\n",
        "       ('4092810008124850',10000026,conv_data('27/01/24'),400.2),\n",
        "       ('4092810008274267',10000027,conv_data('29/11/23'),1700.88),\n",
        "       ('4092810008556432',10000028,conv_data('05/12/23'),1998.48),\n",
        "       ('4092810008642257',10000029,conv_data('25/11/23'),1545.06),\n",
        "       ('4092810008650839',10000030,conv_data('05/12/23'),210.93),\n",
        "       ('4092810008650839',10000031,conv_data('14/12/23'),9),\n",
        "       ('4092810008650839',10000032,conv_data('23/12/23'),179.91),\n",
        "       ('4092810008650839',10000033,conv_data('29/01/24'),20),\n",
        "       ('4092810008726159',10000034,conv_data('09/12/23'),2820),\n",
        "       ('4092810008792896',10000035,conv_data('06/12/23'),400),\n",
        "       ('4092810008814526',10000036,conv_data('29/11/23'),999),\n",
        "       ('4092810009013664',10000037,conv_data('12/12/23'),129.99),\n",
        "       ('4092810009013664',10000038,conv_data('12/12/23'),53.82),\n",
        "       ('4092810009013664',10000039,conv_data('18/12/23'),8.32),\n",
        "       ('4092810009013664',10000040,conv_data('09/01/24'),169.92),\n",
        "       ('4092810009013664',10000041,conv_data('19/02/24'),260.54),\n",
        "       ('4092810009133546',10000042,conv_data('06/12/23'),600),\n",
        "       ('4092810009047944',10000043,conv_data('08/12/23'),400),\n",
        "       ('4092810009075259',10000044,conv_data('18/12/23'),400),\n",
        "       ('4092810009075259',10000045,conv_data('14/01/24'),29.99),\n",
        "       ('4092810009075259',10000046,conv_data('23/01/24'),44.27),\n",
        "       ('4092810009075259',10000047,conv_data('22/01/24'),26.19),\n",
        "       ('4092810009075259',10000048,conv_data('17/02/24'),100),\n",
        "       ('4092810009369371',10000049,conv_data('20/12/23'),1103.68),\n",
        "       ('4092810009369371',10000050,conv_data('19/02/24'),8.5),\n",
        "       ('4092810009369371',10000051,conv_data('19/02/24'),75),\n",
        "       ('4092810009764944',10000052,conv_data('18/12/23'),3000),\n",
        "       ('4092810009867796',10000053,conv_data('18/12/23'),356.94),\n",
        "       ('4092810009872986',10000054,conv_data('27/12/23'),3060),\n",
        "       ('4092810009872986',10000055,conv_data('26/01/24'),55.9),\n",
        "       ('4092810009872986',10000056,conv_data('19/02/24'),40),\n",
        "       ('4092810009872986',10000057,conv_data('19/02/24'),283.5),\n",
        "       ('4092810009981498',10000058,conv_data('28/12/23'),400),\n",
        "       ('4092810000218237',10000059,conv_data('22/12/23'),609.74),\n",
        "       ('4092810000218237',10000060,conv_data('04/01/24'),76.78),\n",
        "       ('4092810008387016',10000061,conv_data('30/12/23'),169.9),\n",
        "       ('4092810008380607',10000062,conv_data('13/12/23'),46.68),\n",
        "       ('4092810008380607',10000063,conv_data('13/12/23'),386.7),\n",
        "       ('4092810008387016',10000064,conv_data('11/12/23'),299)]\n",
        "\n",
        "dados_bureau = [(1, 'Bureau 1'),\n",
        "    (2, 'Bureau 2')]\n",
        "\n",
        "dados_loja = [('0(T201', 'Ramo 5', 'SP', 'Sudeste'),\n",
        "('5(SU05', 'Ramo 6', 'PE', 'Nordeste'),\n",
        "('5(S007', 'Ramo 6', 'BA', 'Nordeste'),\n",
        "('UDSZ01', 'Ramo 3', 'BA', 'Nordeste'),\n",
        "('2D2(16', 'Ramo 4', 'BA', 'Nordeste'),\n",
        "('5(SU12', 'Ramo 6', 'MA', 'Nordeste'),\n",
        "('12OC33', 'Ramo 4', 'SP', 'Sudeste'),\n",
        "('IJ--01', 'Ramo 2', 'SP', 'Sudeste'),\n",
        "('G95901', 'Ramo 6', 'SP', 'Sudeste'),\n",
        "('TW-N42', 'Ramo 4', 'BA', 'Nordeste'),\n",
        "('5RW]09', 'Ramo 4', 'CE', 'Nordeste'),\n",
        "('4(SB03', 'Ramo 4', 'BA', 'Nordeste'),\n",
        "('4-S-01', 'Ramo 4', 'ES', 'Sudeste'),\n",
        "('5(SV02', 'Ramo 6', 'PE', 'Nordeste'),\n",
        "('2D2(01', 'Ramo 4', 'BA', 'Nordeste'),\n",
        "('5RW]03', 'Ramo 4', 'CE', 'Nordeste'),\n",
        "('TW-N37', 'Ramo 4', 'ES', 'Sudeste'),\n",
        "('Z-TW08', 'Ramo 4', 'BA', 'Nordeste'),\n",
        "('5(SV04', 'Ramo 6', 'PE', 'Nordeste'),\n",
        "('3WCL38', 'Ramo 4', 'DF', 'Centro-Oeste'),\n",
        "('E(W601', 'Ramo 1', 'SP', 'Sudeste'),\n",
        "('5(SU27', 'Ramo 6', 'RN', 'Nordeste'),\n",
        "('4(UI01', 'Ramo 4', 'BA', 'Nordeste'),\n",
        "('5H(W15', 'Ramo 4', 'BA', 'Nordeste'),\n",
        "('3WCL21', 'Ramo 4', 'GO', 'Centro-Oeste'),\n",
        "('0Q8101', 'Ramo 4', 'RJ', 'Sudeste'),\n",
        "('5(TW17', 'Ramo 4', 'PE', 'Nordeste'),\n",
        "('87-F01', 'Ramo 2', 'RS', 'Sul'),\n",
        "('5(SV06', 'Ramo 6', 'PE', 'Nordeste'),\n",
        "('5H(W44', 'Ramo 4', 'BA', 'Nordeste'),\n",
        "('5(SU31', 'Ramo 6', 'PE', 'Nordeste'),\n",
        "('2D2(17', 'Ramo 4', 'BA', 'Nordeste'),\n",
        "('5(M113', 'Ramo 4', 'CE', 'Nordeste'),\n",
        "('8NK[09', 'Ramo 4', 'BA', 'Nordeste'),\n",
        "('OS(604', 'Ramo 4', 'CE', 'Nordeste'),\n",
        "('5(RN01', 'Ramo 4', 'BA', 'Nordeste'),\n",
        "('5H(W37', 'Ramo 4', 'BA', 'Nordeste'),\n",
        "('T-4-01', 'Ramo 5', 'RS', 'Sul'),\n",
        "('!4W401', 'Ramo 2', 'SP', 'Sudeste'),\n",
        "('3WCL33', 'Ramo 4', 'GO', 'Centro-Oeste'),\n",
        "('6(U801', 'Ramo 2', 'PR', 'Sul'),\n",
        "('5(SU07', 'Ramo 6', 'MA', 'Nordeste'),\n",
        "('5(SU08', 'Ramo 6', 'MA', 'Nordeste'),\n",
        "('3WCL15', 'Ramo 4', 'DF', 'Centro-Oeste'),\n",
        "('5(TM15', 'Ramo 4', 'RJ', 'Sudeste'),\n",
        "('5(SU18', 'Ramo 6', 'PB', 'Nordeste'),\n",
        "('5(SV05', 'Ramo 6', 'PE', 'Nordeste'),\n",
        "('5(TW41', 'Ramo 4', 'PE', 'Nordeste'),\n",
        "('FYU]02', 'Ramo 4', 'CE', 'Nordeste'),\n",
        "('5(S006', 'Ramo 6', 'BA', 'Nordeste'),\n",
        "('5(SU17', 'Ramo 6', 'PB', 'Nordeste'),\n",
        "('59G!01', 'Ramo 2', 'SC', 'Sul'),\n",
        "('5(SU25', 'Ramo 6', 'SE', 'Nordeste'),\n",
        "('Z-TW48', 'Ramo 4', 'BA', 'Nordeste'),\n",
        "('5RW]13', 'Ramo 4', 'CE', 'Nordeste'),\n",
        "('0(7V03', 'Ramo 4', 'BA', 'Nordeste'),\n",
        "('Z-TW35', 'Ramo 4', 'BA', 'Nordeste'),\n",
        "('VX)W01', 'Ramo 2', 'MT', 'Centro-Oeste'),\n",
        "('5(SU01', 'Ramo 6', 'PE', 'Nordeste'),\n",
        "('5(TM30', 'Ramo 4', 'RJ', 'Sudeste'),\n",
        "('5(SU24', 'Ramo 6', 'PB', 'Nordeste'),\n",
        "('5(TW39', 'Ramo 4', 'PE', 'Nordeste'),\n",
        "('OS(649', 'Ramo 4', 'CE', 'Nordeste'),\n",
        "('JIU]01', 'Ramo 4', 'BA', 'Nordeste'),\n",
        "('3WCL10', 'Ramo 4', 'DF', 'Centro-Oeste'),\n",
        "('5(Q001', 'Ramo 4', 'BA', 'Nordeste'),\n",
        "('TW-N06', 'Ramo 4', 'ES', 'Sudeste'),\n",
        "('12OC34', 'Ramo 4', 'SP', 'Sudeste'),\n",
        "('5H(W33', 'Ramo 4', 'BA', 'Nordeste'),\n",
        "('TW-N26', 'Ramo 4', 'ES', 'Sudeste'),\n",
        "('5(SU11', 'Ramo 6', 'MA', 'Nordeste'),\n",
        "('-6TD01', 'Ramo 2', 'SP', 'Sudeste'),\n",
        "('4(T901', 'Ramo 2', 'RJ', 'Sudeste'),\n",
        "('5(S001', 'Ramo 6', 'BA', 'Nordeste'),\n",
        "('5(TM24', 'Ramo 4', 'RJ', 'Sudeste'),\n",
        "('5(S003', 'Ramo 6', 'BA', 'Nordeste'),\n",
        "('2D2(18', 'Ramo 4', 'BA', 'Nordeste'),\n",
        "('T9M207', 'Ramo 4', 'BA', 'Nordeste'),\n",
        "('TIF(11', 'Ramo 4', 'ES', 'Sudeste'),\n",
        "('TIF(02', 'Ramo 4', 'BA', 'Nordeste'),\n",
        "('2D2(33', 'Ramo 4', 'BA', 'Nordeste'),\n",
        "('2D2(07', 'Ramo 4', 'BA', 'Nordeste'),\n",
        "('5(TM38', 'Ramo 4', 'RJ', 'Sudeste'),\n",
        "('5(U501', 'Ramo 4', 'ES', 'Sudeste'),\n",
        "('Z-TW12', 'Ramo 4', 'BA', 'Nordeste'),\n",
        "('5H(W22', 'Ramo 4', 'BA', 'Nordeste')]\n",
        "\n",
        "dados_carteira = [(conv_data('31/01/24'), '4092810006145568', conv_data('03/12/23'), 59, 2020.99),\n",
        "       (conv_data('31/01/24'), '4092810006932668', None, 0, 1692.19),\n",
        "       (conv_data('31/12/23'), '4092810007509507', None, 0, 2550),\n",
        "       (conv_data('31/12/23'), '4092810007536914', conv_data('16/12/23'), 15, 845.54),\n",
        "       (conv_data('31/01/24'), '4092810008274267', None, 0, 1416.6),\n",
        "       (conv_data('31/12/23'), '4092810008726159', None, 0, 2820),\n",
        "       (conv_data('31/01/24'), '4092810009764944', None, 0, 2750),\n",
        "       (conv_data('31/01/24'), '4092810007509507', None, 0, 2280),\n",
        "       (conv_data('30/11/23'), '4092810007536914', None, 0, 423.03),\n",
        "       (conv_data('31/01/24'), '4092810008124850', conv_data('22/12/23'), 40, 2538.15),\n",
        "       (conv_data('31/12/23'), '4092810008792896', None, 0, 400),\n",
        "       (conv_data('31/12/23'), '4092810006145568', conv_data('03/12/23'), 28, 2520.99),\n",
        "       (conv_data('31/01/24'), '4092810008365719', None, 0, 1276.99),\n",
        "       (conv_data('31/01/24'), '4092810009075259', None, 0, 70.46),\n",
        "       (conv_data('31/12/23'), '4092810009133546', None, 0, 600),\n",
        "       (conv_data('31/01/24'), '4092810009872986', conv_data('27/01/24'), 4, 2860.9),\n",
        "       (conv_data('31/01/24'), '4092810007536914', conv_data('16/12/23'), 46, 571.62),\n",
        "       (conv_data('31/01/24'), '4092810007601833', None, 0, 4326.41),\n",
        "       (conv_data('31/01/24'), '4092810007753014', None, 0, 2083.3),\n",
        "       (conv_data('31/12/23'), '4092810008556432', None, 0, 1831.94),\n",
        "       (conv_data('31/12/23'), '4092810009764944', None, 0, 3000),\n",
        "       (conv_data('31/01/24'), '4092810008387016', conv_data('11/01/24'), 20, 526.97),\n",
        "       (conv_data('31/12/23'), '4092810008642257', conv_data('25/12/23'), 6, 1287.5),\n",
        "       (conv_data('31/01/24'), '4092810008642257', conv_data('25/12/23'), 37, 1030),\n",
        "       (conv_data('31/12/23'), '4092810008650839', None, 0, 399.84),\n",
        "       (conv_data('31/01/24'), '4092810009369371', None, 0, 965.44),\n",
        "       (conv_data('31/12/23'), '4092810009867796', None, 0, 356.94),\n",
        "       (conv_data('31/12/23'), '4092810009872986', None, 0, 3060),\n",
        "       (conv_data('31/01/24'), '4092810009981498', None, 0, 368.52),\n",
        "       (conv_data('31/01/24'), '4092810000218237', None, 0, 607.94),\n",
        "       (conv_data('31/12/23'), '4092810008380607', None, 0, 433.38),\n",
        "       (conv_data('31/12/23'), '4092810008274267', None, 0, 1589.31),\n",
        "       (conv_data('31/01/24'), '4092810008792896', None, 0, 300),\n",
        "       (conv_data('31/01/24'), '4092810008814526', None, 0, 924.58),\n",
        "       (conv_data('31/12/23'), '4092810009013664', None, 0, 192.13),\n",
        "       (conv_data('31/01/24'), '4092810009013664', None, 0, 285.26),\n",
        "       (conv_data('31/01/24'), '4092810009133546', None, 0, 480),\n",
        "       (conv_data('31/12/23'), '4092810000218237', None, 0, 619.98),\n",
        "       (conv_data('31/01/24'), '4092810008380607', None, 0, 360.8),\n",
        "       (conv_data('31/12/23'), '4092810008387016', None, 0, 303.09),\n",
        "       (conv_data('31/12/23'), '4092810006932668', None, 0, 1402.12),\n",
        "       (conv_data('31/12/23'), '4092810007601833', None, 0, 3797.1),\n",
        "       (conv_data('31/12/23'), '4092810007753014', None, 0, 2327.36),\n",
        "       (conv_data('31/12/23'), '4092810008124850', conv_data('22/12/23'), 9, 2116.69),\n",
        "       (conv_data('31/12/23'), '4092810008365719', None, 0, 685.66),\n",
        "       (conv_data('31/01/24'), '4092810008556432', None, 0, 1665.4),\n",
        "       (conv_data('31/01/24'), '4092810008726159', None, 0, 2593.29),\n",
        "       (conv_data('31/12/23'), '4092810008814526', None, 0, 925.64),\n",
        "       (conv_data('31/12/23'), '4092810009047944', None, 0, 400),\n",
        "       (conv_data('31/12/23'), '4092810009369371', None, 0, 1103.68),\n",
        "       (conv_data('31/01/24'), '4092810009867796', None, 0, 237.92),\n",
        "       (conv_data('31/01/24'), '4092810008650839', conv_data('05/01/24'), 26, 280.52),\n",
        "       (conv_data('31/01/24'), '4092810009047944', None, 0, 320),\n",
        "       (conv_data('31/12/23'), '4092810009075259', None, 0, 414.7)]\n",
        "\n",
        "dados_propostas =[(conv_data('29/11/23'), 200000453771, 'EFETIVADO', None, 907, 'T-4-01', '4092810008274267', 1700),\n",
        "       (conv_data('11/11/23'), 200000332798, 'EFETIVADO', None, 930, '3WCL21', '4092810007601833', 5625),\n",
        "       (conv_data('18/12/23'), 200000586520, 'EFETIVADO', None, 906, '!4W401', '4092810009764944', 5625),\n",
        "       (conv_data('09/12/23'), 200000523594, 'EFETIVADO', None, 903, '12OC33', '4092810008726159', 3000),\n",
        "       (conv_data('18/12/23'), 200000586697, 'EFETIVADO', None, 901, '5(SU11', '4092810009867796', 1500),\n",
        "       (conv_data('27/12/23'), 200000649818, 'EFETIVADO', None, 916, 'IJ--01', '4092810009872986', 6000),\n",
        "       (conv_data('21/11/23'), 200000393539, 'EFETIVADO', None, 905, 'VX)W01', '4092810007509507', 3000),\n",
        "       (conv_data('03/11/23'), 200000287166, 'EFETIVADO', None, 951, '3WCL33', '4092810006145568', 3000),\n",
        "       (conv_data('20/12/23'), 200000599087, 'EFETIVADO', None, 902, 'G95901', '4092810009369371', 1500),\n",
        "       (conv_data('25/11/23'), 200000426192, 'EFETIVADO', None, 856, '0(T201', '4092810008642257', 1700),\n",
        "       (conv_data('11/12/23'), 200000535079, 'EFETIVADO', None, 802, 'Z-TW08', '4092810008387016', 1500),\n",
        "       (conv_data('14/11/23'), 200000351898, 'EFETIVADO', None, 855, '!4W401', '4092810007753014', 2500),\n",
        "       (conv_data('29/11/23'), 200000452111, 'EFETIVADO', None, 798, '6(U801', '4092810008814526', 2000),\n",
        "       (conv_data('16/11/23'), 200000360060, 'EFETIVADO', None, 730, '0Q8101', '4092810007536914', 1000),\n",
        "       (conv_data('05/12/23'), 200000492541, 'ABANDONO', None, 791, 'TW-N42', None, 6000),\n",
        "       (conv_data('13/12/23'), 200000551090, 'EFETIVADO', None, 655, '5(TW17', '4092810008380607', 1200),\n",
        "       (conv_data('18/12/23'), 200000584823, 'EFETIVADO', None, 639, '5(SV04', '4092810009075259', 400),\n",
        "       (conv_data('06/12/23'), 200000497621, 'EFETIVADO', None, 633, '5(SU17', '4092810008792896', 400),\n",
        "       (conv_data('03/11/23'), 200000286321, 'EFETIVADO', None, 667, '-6TD01', '4092810006932668', 2500),\n",
        "       (conv_data('28/12/23'), 200000654076, 'EFETIVADO', None, 652, '5(SU01', '4092810009981498', 400),\n",
        "       (conv_data('27/11/23'), 200000438565, 'ABANDONO', None, 680, '5(TM30', None, 1200),\n",
        "       (conv_data('22/11/23'), 200000398029, 'EFETIVADO', None, 598, '59G!01', '4092810008124850', 2500),\n",
        "       (conv_data('06/12/23'), 200000498490, 'EFETIVADO', None, 594, '5(SU07', '4092810009133546', 600),\n",
        "       (conv_data('08/12/23'), 200000513245, 'EFETIVADO', None, 600, '5(SU05', '4092810009047944', 400),\n",
        "       (conv_data('22/11/23'), 200000397856, 'EFETIVADO', None, 576, '4(T901', '4092810008365719', 2500),\n",
        "       (conv_data('05/12/23'), 200000489335, 'EFETIVADO', None, 598, '5(S001', '4092810008650839', 400),\n",
        "       (conv_data('12/12/23'), 200000538152, 'EFETIVADO', None, 595, '5(SU08', '4092810009013664', 400),\n",
        "       (conv_data('05/12/23'), 200000494679, 'EFETIVADO', None, 586, '87-F01', '4092810008556432', 2500),\n",
        "       (conv_data('22/12/23'), 200000618781, 'EFETIVADO', None, 594, '5(S007', '4092810000218237', 800),\n",
        "       (conv_data('27/11/23'), 200000435267, 'ABANDONO', None, 595, '3WCL38', None, 1500),\n",
        "       (conv_data('06/12/23'), 200000498311, 'REPROVADO', 3, None, '3WCL15', None, None),\n",
        "       (conv_data('17/12/23'), 200000578601, 'REPROVADO', 3, None, '5(SV06', None, None),\n",
        "       (conv_data('09/11/23'), 200000317853, 'REPROVADO', 3, None, '5(TM24', None, None),\n",
        "       (conv_data('21/12/23'), 200000609654, 'REPROVADO', 3, None, 'UDSZ01', None, None),\n",
        "       (conv_data('24/11/23'), 200000417271, 'REPROVADO', 3, None, '5H(W44', None, None),\n",
        "       (conv_data('14/12/23'), 200000554966, 'REPROVADO', 3, None, '5(SU25', None, None),\n",
        "       (conv_data('07/12/23'), 200000505594, 'REPROVADO', 3, None, '5(S003', None, None),\n",
        "       (conv_data('20/11/23'), 200000379704, 'REPROVADO', 3, None, '2D2(16', None, None),\n",
        "       (conv_data('01/11/23'), 200000275445, 'REPROVADO', 3, None, '5(TM15', None, None),\n",
        "       (conv_data('19/12/23'), 200000588646, 'REPROVADO', 3, None, '2D2(18', None, None),\n",
        "       (conv_data('16/12/23'), 200000573079, 'REPROVADO', 3, None, '5(SU24', None, None),\n",
        "       (conv_data('27/11/23'), 200000431892, 'REPROVADO', 4, None, '5(SU18', None, None),\n",
        "       (conv_data('26/12/23'), 200000642203, 'REPROVADO', 4, None, '5RW]09', None, None),\n",
        "       (conv_data('12/12/23'), 200000544234, 'REPROVADO', 4, None, '5(TW39', None, None),\n",
        "       (conv_data('15/12/23'), 200000564724, 'REPROVADO', 4, None, 'E(W601', None, None),\n",
        "       (conv_data('20/11/23'), 200000379539, 'REPROVADO', 4, None, '5(S007', None, None),\n",
        "       (conv_data('29/12/23'), 200000668968, 'REPROVADO', 4, None, '4(SB03', None, None),\n",
        "       (conv_data('24/11/23'), 200000419928, 'REPROVADO', 4, None, '5(SU31', None, None),\n",
        "       (conv_data('25/11/23'), 200000424381, 'REPROVADO', 2, 620, '2D2(17', None, None),\n",
        "       (conv_data('03/11/23'), 200000286342, 'REPROVADO', 2, 607, '4-S-01', None, None),\n",
        "       (conv_data('24/11/23'), 200000416745, 'REPROVADO', 2, 524, '4(SB03', None, None),\n",
        "       (conv_data('21/11/23'), 200000387168, 'REPROVADO', 2, 539, 'Z-TW48', None, None),\n",
        "       (conv_data('13/11/23'), 200000340422, 'REPROVADO', 2, 591, 'OS(649', None, None),\n",
        "       (conv_data('17/11/23'), 200000369988, 'REPROVADO', 2, 454, '5(SV05', None, None),\n",
        "       (conv_data('08/12/23'), 200000516376, 'REPROVADO', 2, 486, 'T9M207', None, None),\n",
        "       (conv_data('13/12/23'), 200000553130, 'REPROVADO', 2, 599, 'TIF(11', None, None),\n",
        "       (conv_data('20/12/23'), 200000598353, 'REPROVADO', 2, 502, '5(SU27', None, None),\n",
        "       (conv_data('12/12/23'), 200000544424, 'REPROVADO', 2, 527, 'JIU]01', None, None),\n",
        "       (conv_data('27/11/23'), 200000436101, 'REPROVADO', 2, 438, '3WCL10', None, None),\n",
        "       (conv_data('22/11/23'), 200000395125, 'REPROVADO', 2, 497, '4(SB03', None, None),\n",
        "       (conv_data('18/11/23'), 200000375582, 'REPROVADO', 2, 633, '5(SV02', None, None),\n",
        "       (conv_data('09/12/23'), 200000521911, 'REPROVADO', 2, 615, '2D2(01', None, None),\n",
        "       (conv_data('22/12/23'), 200000617299, 'REPROVADO', 2, 423, '5(M113', None, None),\n",
        "       (conv_data('28/11/23'), 200000446043, 'REPROVADO', 2, 335, '4(UI01', None, None),\n",
        "       (conv_data('23/12/23'), 200000626185, 'REPROVADO', 2, 596, '8NK[09', None, None),\n",
        "       (conv_data('16/12/23'), 200000575935, 'REPROVADO', 2, 544, '5(S001', None, None),\n",
        "       (conv_data('11/12/23'), 200000536363, 'REPROVADO', 2, 466, 'TIF(02', None, None),\n",
        "       (conv_data('11/11/23'), 200000332135, 'REPROVADO', 2, 635, '8NK[09', None, None),\n",
        "       (conv_data('02/12/23'), 200000473682, 'REPROVADO', 1, 476, 'OS(604', None, None),\n",
        "       (conv_data('02/12/23'), 200000476311, 'REPROVADO', 1, 405, '5(RN01', None, None),\n",
        "       (conv_data('09/12/23'), 200000521365, 'REPROVADO', 1, 457, '5(Q001', None, None),\n",
        "       (conv_data('23/12/23'), 200000628149, 'REPROVADO', 1, 487, 'T9M207', None, None),\n",
        "       (conv_data('27/12/23'), 200000645712, 'REPROVADO', 1, 476, '5RW]13', None, None),\n",
        "       (conv_data('21/12/23'), 200000605255, 'REPROVADO', 1, 397, '5(S001', None, None),\n",
        "       (conv_data('06/12/23'), 200000502809, 'REPROVADO', 1, 333, '2D2(33', None, None),\n",
        "       (conv_data('06/12/23'), 200000500988, 'REPROVADO', 1, 335, '2D2(07', None, None),\n",
        "       (conv_data('22/11/23'), 200000397772, 'REPROVADO', 1, 386, '5(TM38', None, None),\n",
        "       (conv_data('18/11/23'), 200000374046, 'REPROVADO', 1, 370, '5(U501', None, None),\n",
        "       (conv_data('13/12/23'), 200000547574, 'REPROVADO', 1, 394, '0(7V03', None, None),\n",
        "       (conv_data('23/11/23'), 200000403728, 'REPROVADO', 1, 230, 'TW-N06', None, None),\n",
        "       (conv_data('23/11/23'), 200000403701, 'REPROVADO', 1, 250, '5RW]03', None, None),\n",
        "       (conv_data('20/12/23'), 200000599973, 'REPROVADO', 1, 291, 'Z-TW12', None, None),\n",
        "       (conv_data('20/12/23'), 200000599761, 'REPROVADO', 1, 291, '5H(W22', None, None),\n",
        "       (conv_data('13/12/23'), 200000550638, 'REPROVADO', 1, 108, '5(SU12', None, None),\n",
        "       (conv_data('04/12/23'), 200000480650, 'REPROVADO', 1, 178, '2D2(16', None, None),\n",
        "       (conv_data('18/12/23'), 200000583434, 'REPROVADO', 1, 199, 'Z-TW35', None, None),\n",
        "       (conv_data('28/12/23'), 200000658967, 'REPROVADO', 1, 1, '5(TW41', None, None),\n",
        "       (conv_data('01/12/23'), 200000470346, 'REPROVADO', 1, 98, '5H(W15', None, None),\n",
        "       (conv_data('25/11/23'), 200000426125, 'REPROVADO', 1, 40, 'FYU]02', None, None),\n",
        "       (conv_data('12/12/23'), 200000541989, 'REPROVADO', 1, 11, '5(S001', None, None),\n",
        "       (conv_data('22/12/23'), 200000620128, 'REPROVADO', 1, 40, '5(SU24', None, None),\n",
        "       (conv_data('29/12/23'), 200000672975, 'REPROVADO', 1, 73, '12OC34', None, None),\n",
        "       (conv_data('05/12/23'), 200000492272, 'REPROVADO', 1, 30, '2D2(01', None, None),\n",
        "       (conv_data('11/11/23'), 200000333278, 'REPROVADO', 1, 39, '5H(W37', None, None),\n",
        "       (conv_data('12/12/23'), 200000539942, 'REPROVADO', 1, 78, '5(TW39', None, None),\n",
        "       (conv_data('26/12/23'), 200000641177, 'REPROVADO', 1, 43, '5H(W33', None, None),\n",
        "       (conv_data('28/12/23'), 200000659775, 'REPROVADO', 1, 40, 'TW-N37', None, None),\n",
        "       (conv_data('11/12/23'), 200000530236, 'REPROVADO', 1, 79, 'TW-N26', None, None),\n",
        "       (conv_data('13/12/23'), 200000552766, 'REPROVADO', 1, 95, '5(S006', None, None),\n",
        "       (conv_data('30/11/23'), 200000458831, 'REPROVADO', 1, 31, '5(S003', None, None)]\n",
        "\n",
        "dados_fx_score = [(901, 1000, 'Faixa 1'),\n",
        "       (801, 900, 'Faixa 2'),\n",
        "       (701, 800, 'Faixa 3'),\n",
        "       (601, 700, 'Faixa 4'),\n",
        "       (501, 600, 'Faixa 5'),\n",
        "       (401, 500, 'Faixa 6'),\n",
        "       (301, 400, 'Faixa 7'),\n",
        "       (201, 300, 'Faixa 8'),\n",
        "       (101, 200, 'Faixa 9'),\n",
        "       (1, 100, 'Faixa 10')]\n",
        "\n",
        "dados_motivo_reprov = [(1, 'Ponto de Corte', None),\n",
        "      (2, 'Politica de Credito', None),\n",
        "      (3, 'Negativado', 1),\n",
        "      (4, 'Negativado', 2)]\n",
        "\n",
        "# Injeção dos dados\n",
        "\n",
        "conn = psycopg2.connect(\n",
        "    host=host,\n",
        "    port=port,\n",
        "    dbname=dbname,\n",
        "    user=user,\n",
        "    password=password\n",
        ")\n",
        "cursor = conn.cursor()\n",
        "\n",
        "# Injeção na tabela BTESTESQL_LOJA\n",
        "cursor.executemany(\"\"\"\n",
        "INSERT INTO btestesql_loja (id_loja, ramo_sistema, loja_uf, loja_regiao)\n",
        "VALUES (%s, %s, %s, %s)\n",
        "\"\"\", dados_loja)\n",
        "\n",
        "# Injeção na tabela BTESTESQL_MOTIVO_REPROV\n",
        "cursor.executemany(\"\"\"\n",
        "INSERT INTO btestesql_motivo_reprov (id_motivo_reprovacao, descricao, id_bureau)\n",
        "VALUES (%s, %s, %s)\n",
        "\"\"\", dados_motivo_reprov)\n",
        "\n",
        "# Injeção na tabela BTESTESQL_FX_SCORE\n",
        "cursor.executemany(\"\"\"\n",
        "INSERT INTO btestesql_fx_score (score_inicio, score_fim, fx_score)\n",
        "VALUES (%s, %s, %s)\n",
        "\"\"\", dados_fx_score)\n",
        "\n",
        "# Injeção na tabela BTESTESQL_BUREAU\n",
        "cursor.executemany(\"\"\"\n",
        "INSERT INTO btestesql_bureau (id_bureau, descricao)\n",
        "VALUES (%s, %s)\n",
        "\"\"\", dados_bureau)\n",
        "\n",
        "# Injeção na tabela BTESTESQL_PROPOSTAS\n",
        "cursor.executemany(\"\"\"\n",
        "INSERT INTO btestesql_propostas (data_proposta, id_proposta, status, id_motivo_reprovacao, score, id_loja, id_conta, limite)\n",
        "VALUES (%s, %s, %s, %s, %s, %s, %s, %s)\n",
        "\"\"\", dados_propostas)\n",
        "\n",
        "# Injeção na tabela BTESTESQL_CARTEIRA\n",
        "cursor.executemany(\"\"\"\n",
        "INSERT INTO btestesql_carteira (referencia, id_conta, vcto_nao_pago, atraso, saldo)\n",
        "VALUES (%s, %s, %s, %s, %s)\n",
        "\"\"\", dados_carteira)\n",
        "\n",
        "# Injeção na tabela BTESTESQL_TRANSACOES\n",
        "cursor.executemany(\"\"\"\n",
        "INSERT INTO btestesql_transacoes (id_conta, id_transacao, data_transacao, valor)\n",
        "VALUES (%s, %s, %s, %s)\n",
        "\"\"\", dados_transacoes)\n",
        "\n",
        "try:\n",
        "  conn.commit()\n",
        "  print(\"Dados inseridos em todas as tabelas com sucesso!\")\n",
        "except Exception as e:\n",
        "  print(\"Erro ao inserir dados, verificar:\", e)\n"
      ],
      "metadata": {
        "colab": {
          "base_uri": "https://localhost:8080/"
        },
        "id": "ecC8wYQDHOP-",
        "outputId": "b2808891-5b6e-44ee-ec6c-ccdddccb686e"
      },
      "execution_count": 5,
      "outputs": [
        {
          "output_type": "stream",
          "name": "stdout",
          "text": [
            "Dados inseridos em todas as tabelas com sucesso!\n"
          ]
        }
      ]
    },
    {
      "cell_type": "code",
      "source": [
        "# Verificação de persistência dos dados inseridos na AWS\n",
        "\n",
        "import psycopg2\n",
        "import pandas as pd\n",
        "\n",
        "conn = psycopg2.connect(\n",
        "    host=host,\n",
        "    port=port,\n",
        "    dbname=dbname,\n",
        "    user=user,\n",
        "    password=password\n",
        ")\n",
        "cursor = conn.cursor()\n",
        "\n",
        "# Tabelas criadas\n",
        "tabelas = [\n",
        "    \"btestesql_loja\",\n",
        "    \"btestesql_motivo_reprov\",\n",
        "    \"btestesql_fx_score\",\n",
        "    \"btestesql_bureau\",\n",
        "    \"btestesql_propostas\",\n",
        "    \"btestesql_carteira\",\n",
        "    \"btestesql_transacoes\"\n",
        "]\n",
        "\n",
        "# Verificando dados - 10 Linhas por tabela (Para mais linhas ou tabela inteira, somente retirar 'LIMIT 10')\n",
        "\n",
        "for tabela in tabelas:\n",
        "    cursor.execute(f\"SELECT * FROM {tabela} LIMIT 10;\")\n",
        "    rows = cursor.fetchall()\n",
        "    colnames = [desc[0] for desc in cursor.description]\n",
        "    print(f\"\\n Tabela: {tabela}\")\n",
        "    df = pd.DataFrame(rows, columns=colnames)\n",
        "    print(df)\n",
        "\n"
      ],
      "metadata": {
        "colab": {
          "base_uri": "https://localhost:8080/"
        },
        "id": "3zI8Ob2uJbxF",
        "outputId": "658fc4b2-0537-46a3-f424-77b6bca1be4d"
      },
      "execution_count": 6,
      "outputs": [
        {
          "output_type": "stream",
          "name": "stdout",
          "text": [
            "\n",
            " Tabela: btestesql_loja\n",
            "  id_loja ramo_sistema loja_uf loja_regiao\n",
            "0  0(T201       Ramo 5      SP     Sudeste\n",
            "1  5(SU05       Ramo 6      PE    Nordeste\n",
            "2  5(S007       Ramo 6      BA    Nordeste\n",
            "3  UDSZ01       Ramo 3      BA    Nordeste\n",
            "4  2D2(16       Ramo 4      BA    Nordeste\n",
            "5  5(SU12       Ramo 6      MA    Nordeste\n",
            "6  12OC33       Ramo 4      SP     Sudeste\n",
            "7  IJ--01       Ramo 2      SP     Sudeste\n",
            "8  G95901       Ramo 6      SP     Sudeste\n",
            "9  TW-N42       Ramo 4      BA    Nordeste\n",
            "\n",
            " Tabela: btestesql_motivo_reprov\n",
            "  id_motivo_reprovacao            descricao id_bureau\n",
            "0                    1       Ponto de Corte      None\n",
            "1                    2  Politica de Credito      None\n",
            "2                    3           Negativado         1\n",
            "3                    4           Negativado         2\n",
            "\n",
            " Tabela: btestesql_fx_score\n",
            "  score_inicio score_fim  fx_score\n",
            "0          901      1000   Faixa 1\n",
            "1          801       900   Faixa 2\n",
            "2          701       800   Faixa 3\n",
            "3          601       700   Faixa 4\n",
            "4          501       600   Faixa 5\n",
            "5          401       500   Faixa 6\n",
            "6          301       400   Faixa 7\n",
            "7          201       300   Faixa 8\n",
            "8          101       200   Faixa 9\n",
            "9            1       100  Faixa 10\n",
            "\n",
            " Tabela: btestesql_bureau\n",
            "  id_bureau descricao\n",
            "0         1  Bureau 1\n",
            "1         2  Bureau 2\n",
            "\n",
            " Tabela: btestesql_propostas\n",
            "  data_proposta   id_proposta     status id_motivo_reprovacao score id_loja  \\\n",
            "0    2023-11-29  200000453771  EFETIVADO                 None   907  T-4-01   \n",
            "1    2023-11-11  200000332798  EFETIVADO                 None   930  3WCL21   \n",
            "2    2023-12-18  200000586520  EFETIVADO                 None   906  !4W401   \n",
            "3    2023-12-09  200000523594  EFETIVADO                 None   903  12OC33   \n",
            "4    2023-12-18  200000586697  EFETIVADO                 None   901  5(SU11   \n",
            "5    2023-12-27  200000649818  EFETIVADO                 None   916  IJ--01   \n",
            "6    2023-11-21  200000393539  EFETIVADO                 None   905  VX)W01   \n",
            "7    2023-11-03  200000287166  EFETIVADO                 None   951  3WCL33   \n",
            "8    2023-12-20  200000599087  EFETIVADO                 None   902  G95901   \n",
            "9    2023-11-25  200000426192  EFETIVADO                 None   856  0(T201   \n",
            "\n",
            "           id_conta limite  \n",
            "0  4092810008274267   1700  \n",
            "1  4092810007601833   5625  \n",
            "2  4092810009764944   5625  \n",
            "3  4092810008726159   3000  \n",
            "4  4092810009867796   1500  \n",
            "5  4092810009872986   6000  \n",
            "6  4092810007509507   3000  \n",
            "7  4092810006145568   3000  \n",
            "8  4092810009369371   1500  \n",
            "9  4092810008642257   1700  \n",
            "\n",
            " Tabela: btestesql_carteira\n",
            "   referencia          id_conta vcto_nao_pago atraso    saldo\n",
            "0  2024-01-31  4092810006145568    2023-12-03     59  2020.99\n",
            "1  2024-01-31  4092810006932668          None      0  1692.19\n",
            "2  2023-12-31  4092810007509507          None      0     2550\n",
            "3  2023-12-31  4092810007536914    2023-12-16     15   845.54\n",
            "4  2024-01-31  4092810008274267          None      0   1416.6\n",
            "5  2023-12-31  4092810008726159          None      0     2820\n",
            "6  2024-01-31  4092810009764944          None      0     2750\n",
            "7  2024-01-31  4092810007509507          None      0     2280\n",
            "8  2023-11-30  4092810007536914          None      0   423.03\n",
            "9  2024-01-31  4092810008124850    2023-12-22     40  2538.15\n",
            "\n",
            " Tabela: btestesql_transacoes\n",
            "           id_conta id_transacao data_transacao    valor\n",
            "0  4092810006145568     10000001     2023-11-03     3000\n",
            "1  4092810006932668     10000002     2023-11-08     87.9\n",
            "2  4092810006932668     10000003     2023-11-07      300\n",
            "3  4092810006932668     10000004     2023-11-14  2000.04\n",
            "4  4092810006932668     10000005     2023-11-23    81.82\n",
            "5  4092810006932668     10000006     2023-12-01    17.45\n",
            "6  4092810007601833     10000007     2024-01-26       36\n",
            "7  4092810007509507     10000008     2023-11-22     1500\n",
            "8  4092810007509507     10000009     2023-12-08     1200\n",
            "9  4092810007536914     10000010     2023-11-16      419\n"
          ]
        }
      ]
    },
    {
      "cell_type": "markdown",
      "source": [
        "#### Parte 3 - Montagem do esquema Relacional Proposto![Schema.png](data:image/png;base64,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)"
      ],
      "metadata": {
        "id": "Nu1id80rUaK1"
      }
    },
    {
      "cell_type": "markdown",
      "source": [
        "#### Observações e algumas dúvidas sobre o esquema:\n",
        "\n",
        "\n",
        "##### **Obs 1.:** O esquema me parece ter um erro na relação Propostas e Transações sendo ou:\n",
        "##### N para N (Se uma transação feita em data X ainda esta´aberta e influencia a carteira de mais de um mês) - porém ID_CONTA é único o que anularia essa premissa ou  \n",
        "##### 1 para N (se cada transação pertencer a uma única conta) respectivamente e não N para 1. Essa me parece mais provável.\n",
        "\n",
        "##### **Obs 2.:** A relação (de acordo com PK e FK das tabelas) entre BTESTESQL_BUREAU e BTESTESQL_PROPOSTA aparentemente não é direta e sim indireta com conexão entre BTESTESQL_BUREAU e BTESTESQL_MOTIVO_REPROV e este último sim com conexão a BTESTESQL_PROPOSTA. Para o KPI pedido, não entendo ser problema a conexão dessa forma.\n",
        "\n",
        "##### **Obs 3.:** A relação (de acordo com PK e FK das tabelas) entre BTESTESQL_CARTEIRA e BTESTESQL_PROPOSTA aparentemente não é de 1 para 1 e sim de 1:N (um proposta pode ter várias linhas na carteira ao longo do tempo). Por isto até a PK composta em BTESTESQL_CARTEIRA.\n"
      ],
      "metadata": {
        "id": "x2cszfCby-UI"
      }
    },
    {
      "cell_type": "code",
      "source": [
        "create_view_sql = \"\"\"\n",
        "CREATE OR REPLACE VIEW vw_kpi_base AS\n",
        "SELECT\n",
        "    p.id_proposta,\n",
        "    p.data_proposta,\n",
        "    p.status,\n",
        "    p.score,\n",
        "    p.id_conta,\n",
        "    p.limite,\n",
        "    l.ramo_sistema,\n",
        "    m.descricao AS motivo_reprovacao,\n",
        "    b.descricao AS bureau,\n",
        "    c.referencia,\n",
        "    c.saldo,\n",
        "    c.atraso,\n",
        "    DATE_PART('month', AGE(c.referencia, p.data_proposta)) AS mob,\n",
        "    f.fx_score,\n",
        "    t.id_transacao,\n",
        "    t.data_transacao,\n",
        "    t.valor AS valor_transacao,\n",
        "    CASE\n",
        "        WHEN t.data_transacao = MIN(t.data_transacao) OVER (PARTITION BY p.id_conta)\n",
        "        THEN 1 ELSE 0 END AS primeira_compra\n",
        "FROM btestesql_propostas p\n",
        "JOIN btestesql_loja l ON p.id_loja = l.id_loja\n",
        "LEFT JOIN btestesql_motivo_reprov m ON p.id_motivo_reprovacao = m.id_motivo_reprovacao\n",
        "LEFT JOIN btestesql_bureau b ON m.id_bureau = b.id_bureau\n",
        "LEFT JOIN btestesql_carteira c ON p.id_conta = c.id_conta\n",
        "LEFT JOIN btestesql_fx_score f ON p.score BETWEEN f.score_inicio AND f.score_fim\n",
        "LEFT JOIN btestesql_transacoes t ON p.id_conta = t.id_conta;\n",
        "\"\"\"\n",
        "cursor.execute(create_view_sql)\n",
        "conn.commit()\n"
      ],
      "metadata": {
        "id": "Foe8PL70O0Qb"
      },
      "execution_count": 7,
      "outputs": []
    },
    {
      "cell_type": "code",
      "source": [
        "import warnings\n",
        "warnings.filterwarnings('ignore', category=UserWarning)\n",
        "\n",
        "query = \"SELECT * FROM vw_kpi_base LIMIT 20;\"\n",
        "df = pd.read_sql(query, conn)\n",
        "print(df.head())\n"
      ],
      "metadata": {
        "colab": {
          "base_uri": "https://localhost:8080/"
        },
        "id": "KFUn3NYsWds7",
        "outputId": "fe0897cd-9ac6-46ab-d915-e8ab6a9b594e"
      },
      "execution_count": 8,
      "outputs": [
        {
          "output_type": "stream",
          "name": "stdout",
          "text": [
            "    id_proposta data_proposta     status  score          id_conta  limite  \\\n",
            "0  2.000006e+11    2023-12-22  EFETIVADO  594.0  4092810000218237   800.0   \n",
            "1  2.000006e+11    2023-12-22  EFETIVADO  594.0  4092810000218237   800.0   \n",
            "2  2.000006e+11    2023-12-22  EFETIVADO  594.0  4092810000218237   800.0   \n",
            "3  2.000006e+11    2023-12-22  EFETIVADO  594.0  4092810000218237   800.0   \n",
            "4  2.000003e+11    2023-11-03  EFETIVADO  951.0  4092810006145568  3000.0   \n",
            "\n",
            "  ramo_sistema motivo_reprovacao bureau  referencia    saldo  atraso  mob  \\\n",
            "0       Ramo 6              None   None  2023-12-31   619.98     0.0  0.0   \n",
            "1       Ramo 6              None   None  2024-01-31   607.94     0.0  1.0   \n",
            "2       Ramo 6              None   None  2023-12-31   619.98     0.0  0.0   \n",
            "3       Ramo 6              None   None  2024-01-31   607.94     0.0  1.0   \n",
            "4       Ramo 4              None   None  2023-12-31  2520.99    28.0  1.0   \n",
            "\n",
            "  fx_score  id_transacao data_transacao  valor_transacao  primeira_compra  \n",
            "0  Faixa 5    10000059.0     2023-12-22           609.74                1  \n",
            "1  Faixa 5    10000059.0     2023-12-22           609.74                1  \n",
            "2  Faixa 5    10000060.0     2024-01-04            76.78                0  \n",
            "3  Faixa 5    10000060.0     2024-01-04            76.78                0  \n",
            "4  Faixa 1    10000001.0     2023-11-03          3000.00                1  \n"
          ]
        }
      ]
    },
    {
      "cell_type": "markdown",
      "source": [
        "### **Etapa de cálculo dos KPIs propostos utilizando View criada em etapa anterior.**\n",
        "\n",
        "Obs.: Utilização de SQL no notebook para obteção de dados no PostgreSQL hospedado no DB configurado no AWS e geração de KPIs.\n",
        "Não se trata de uma forma executiva de apresentação, somente transparência nos cálculos de dados e KPIs e preparação para a etapa de DataViz"
      ],
      "metadata": {
        "id": "fL_UeoR-hJRa"
      }
    },
    {
      "cell_type": "code",
      "source": [
        "# Definição de função para cada KPI\n",
        "def get_kpi(query):\n",
        "    return pd.read_sql(query, conn)"
      ],
      "metadata": {
        "id": "h8W384gekrFW"
      },
      "execution_count": 9,
      "outputs": []
    },
    {
      "cell_type": "markdown",
      "source": [
        "##### Total de Propostas (Aprovadas - Efetivadas - Abandonadas - Reprovadas)"
      ],
      "metadata": {
        "id": "uKegTFYwviBY"
      }
    },
    {
      "cell_type": "code",
      "source": [
        "query_total_segmentado = \"\"\"\n",
        "WITH status_base AS (\n",
        "    SELECT 1 AS ordem, 'APROVADO'::VARCHAR AS status\n",
        "    UNION ALL\n",
        "    SELECT 2 AS ordem, 'EFETIVADO'::VARCHAR AS status\n",
        "    UNION ALL\n",
        "    SELECT 3 AS ordem, 'ABANDONO'::VARCHAR AS status\n",
        "    UNION ALL\n",
        "    SELECT 4 AS ordem, 'REPROVADO'::VARCHAR AS status\n",
        ")\n",
        "SELECT\n",
        "    sb.status,\n",
        "    COALESCE(COUNT(DISTINCT v.id_proposta), 0) AS total\n",
        "FROM status_base sb\n",
        "LEFT JOIN vw_kpi_base v\n",
        "    ON v.status = sb.status\n",
        "GROUP BY sb.status, sb.ordem\n",
        "ORDER BY sb.ordem;\n",
        "\"\"\"\n",
        "\n",
        "kpi_total_segmentado = get_kpi(query_total_segmentado)\n",
        "\n",
        "print(kpi_total_segmentado)"
      ],
      "metadata": {
        "colab": {
          "base_uri": "https://localhost:8080/"
        },
        "id": "ZO5OBq21hQBd",
        "outputId": "f1a94568-cdc3-4e1a-bf95-18e277bf85da"
      },
      "execution_count": 10,
      "outputs": [
        {
          "output_type": "stream",
          "name": "stdout",
          "text": [
            "      status  total\n",
            "0   APROVADO      0\n",
            "1  EFETIVADO     27\n",
            "2   ABANDONO      3\n",
            "3  REPROVADO     70\n"
          ]
        }
      ]
    },
    {
      "cell_type": "markdown",
      "source": [
        "#### Reprovados por Motivo"
      ],
      "metadata": {
        "id": "tKaD2h3-vq3_"
      }
    },
    {
      "cell_type": "code",
      "source": [
        "query_reprovadas_motivos = \"\"\"\n",
        "WITH motivos_base AS (\n",
        "    SELECT 'Ponto de Corte'::VARCHAR AS motivo_reprovacao\n",
        "    UNION ALL\n",
        "    SELECT 'Politica de Credito'::VARCHAR\n",
        "    UNION ALL\n",
        "    SELECT 'Negativado'::VARCHAR\n",
        "    UNION ALL\n",
        "    SELECT 'Não Informados'::VARCHAR\n",
        ")\n",
        "SELECT\n",
        "    mb.motivo_reprovacao,\n",
        "    COALESCE(COUNT(DISTINCT v.id_proposta), 0) AS total\n",
        "FROM motivos_base mb\n",
        "LEFT JOIN vw_kpi_base v\n",
        "    ON v.status = 'REPROVADO'\n",
        "   AND COALESCE(v.motivo_reprovacao, 'Não Informados') = mb.motivo_reprovacao\n",
        "GROUP BY mb.motivo_reprovacao\n",
        "ORDER BY mb.motivo_reprovacao;\n",
        "\"\"\"\n",
        "\n",
        "kpi_reprovadas_motivos = get_kpi(query_reprovadas_motivos)\n",
        "print(kpi_reprovadas_motivos)\n"
      ],
      "metadata": {
        "colab": {
          "base_uri": "https://localhost:8080/"
        },
        "id": "ltabWW37mydb",
        "outputId": "117e92d5-4fbd-4dfa-c40c-6a82d7f18845"
      },
      "execution_count": 11,
      "outputs": [
        {
          "output_type": "stream",
          "name": "stdout",
          "text": [
            "     motivo_reprovacao  total\n",
            "0       Não Informados      0\n",
            "1           Negativado     18\n",
            "2  Politica de Credito     20\n",
            "3       Ponto de Corte     32\n"
          ]
        }
      ]
    },
    {
      "cell_type": "markdown",
      "source": [
        "#### Negativos por Bureau"
      ],
      "metadata": {
        "id": "-_U04FzSv0hF"
      }
    },
    {
      "cell_type": "code",
      "source": [
        "query_negativados_bureau = \"\"\"\n",
        "SELECT\n",
        "    COALESCE(v.bureau, 'Sem Bureau') AS bureau,\n",
        "    COUNT(DISTINCT v.id_proposta) AS total\n",
        "FROM vw_kpi_base v\n",
        "WHERE v.status = 'REPROVADO'\n",
        "  AND v.motivo_reprovacao = 'Negativado'\n",
        "GROUP BY v.bureau\n",
        "ORDER BY v.bureau;\n",
        "\"\"\"\n",
        "\n",
        "kpi_negativados_bureau = get_kpi(query_negativados_bureau)\n",
        "print(kpi_negativados_bureau)"
      ],
      "metadata": {
        "colab": {
          "base_uri": "https://localhost:8080/"
        },
        "id": "Unub_q-ZnFAL",
        "outputId": "f5ff8516-3cf1-4a10-b655-ced76e851def"
      },
      "execution_count": 12,
      "outputs": [
        {
          "output_type": "stream",
          "name": "stdout",
          "text": [
            "     bureau  total\n",
            "0  Bureau 1     11\n",
            "1  Bureau 2      7\n"
          ]
        }
      ]
    },
    {
      "cell_type": "markdown",
      "source": [
        "#### Aprovados por Faixa de Score"
      ],
      "metadata": {
        "id": "aTBbtiHGv6cX"
      }
    },
    {
      "cell_type": "code",
      "source": [
        "query_aprovados_fxscore = \"\"\"\n",
        "WITH faixas AS (\n",
        "    SELECT DISTINCT fx_score FROM vw_kpi_base\n",
        ")\n",
        "SELECT\n",
        "    f.fx_score,\n",
        "    COALESCE(COUNT(DISTINCT v.id_proposta), 0) AS total\n",
        "FROM faixas f\n",
        "LEFT JOIN vw_kpi_base v\n",
        "    ON v.fx_score = f.fx_score\n",
        "   AND v.status IN ('EFETIVADO','ABANDONO')\n",
        "GROUP BY f.fx_score\n",
        "ORDER BY f.fx_score;\n",
        "\"\"\"\n",
        "\n",
        "kpi_aprovados_fxscore = get_kpi(query_aprovados_fxscore)\n",
        "print(kpi_aprovados_fxscore)"
      ],
      "metadata": {
        "colab": {
          "base_uri": "https://localhost:8080/"
        },
        "id": "QpiqhU6fnkAI",
        "outputId": "cb71db26-89ad-456f-aafc-f05856172633"
      },
      "execution_count": 13,
      "outputs": [
        {
          "output_type": "stream",
          "name": "stdout",
          "text": [
            "    fx_score  total\n",
            "0    Faixa 1      9\n",
            "1   Faixa 10      0\n",
            "2    Faixa 2      3\n",
            "3    Faixa 3      3\n",
            "4    Faixa 4      6\n",
            "5    Faixa 5      9\n",
            "6    Faixa 6      0\n",
            "7    Faixa 7      0\n",
            "8    Faixa 8      0\n",
            "9    Faixa 9      0\n",
            "10      None      0\n"
          ]
        }
      ]
    },
    {
      "cell_type": "markdown",
      "source": [
        "#### Reprovados por Faixa de Score"
      ],
      "metadata": {
        "id": "gC8gs8f6wiTD"
      }
    },
    {
      "cell_type": "code",
      "source": [
        "query_reprovados_fxscore = \"\"\"\n",
        "WITH faixas AS (\n",
        "    SELECT DISTINCT fx_score FROM vw_kpi_base\n",
        "    UNION ALL\n",
        "    SELECT NULL AS fx_score\n",
        ")\n",
        "SELECT\n",
        "    COALESCE(f.fx_score, 'Sem Faixa') AS fx_score,\n",
        "    COALESCE(COUNT(DISTINCT v.id_proposta), 0) AS total\n",
        "FROM faixas f\n",
        "LEFT JOIN vw_kpi_base v\n",
        "    ON COALESCE(v.fx_score, 'Sem Faixa') = COALESCE(f.fx_score, 'Sem Faixa')\n",
        "   AND v.status IN ('REPROVADO', 'NEGATIVADO')\n",
        "GROUP BY COALESCE(f.fx_score, 'Sem Faixa');\n",
        "\"\"\"\n",
        "\n",
        "kpi_reprovados_fxscore = get_kpi(query_reprovados_fxscore)\n",
        "print(kpi_reprovados_fxscore)\n",
        "\n"
      ],
      "metadata": {
        "colab": {
          "base_uri": "https://localhost:8080/"
        },
        "id": "iltXesBNoVMA",
        "outputId": "0a8679b1-c439-468c-9edd-dd46f8980644"
      },
      "execution_count": 14,
      "outputs": [
        {
          "output_type": "stream",
          "name": "stdout",
          "text": [
            "     fx_score  total\n",
            "0     Faixa 1      0\n",
            "1    Faixa 10     14\n",
            "2     Faixa 2      0\n",
            "3     Faixa 3      0\n",
            "4     Faixa 4      5\n",
            "5     Faixa 5      8\n",
            "6     Faixa 6     11\n",
            "7     Faixa 7      7\n",
            "8     Faixa 8      4\n",
            "9     Faixa 9      3\n",
            "10  Sem Faixa     18\n"
          ]
        }
      ]
    },
    {
      "cell_type": "markdown",
      "source": [
        "#### Taxa de Aprovação %"
      ],
      "metadata": {
        "id": "ZfR9LIXByp8c"
      }
    },
    {
      "cell_type": "code",
      "source": [
        "query_taxa_aprovacao = \"\"\"\n",
        "SELECT\n",
        "    CASE WHEN COUNT(DISTINCT id_proposta)=0 THEN 0\n",
        "         ELSE ROUND(\n",
        "             COUNT(DISTINCT CASE WHEN status='APROVADO' THEN id_proposta END)::NUMERIC\n",
        "             / COUNT(DISTINCT id_proposta)::NUMERIC * 100, 2)\n",
        "    END AS taxa_aprovacao\n",
        "FROM vw_kpi_base;\n",
        "\"\"\"\n",
        "\n",
        "kpi_taxa_aprovacao = get_kpi(query_taxa_aprovacao)\n",
        "print(str(kpi_taxa_aprovacao.iloc[0,0]) + '%')"
      ],
      "metadata": {
        "colab": {
          "base_uri": "https://localhost:8080/"
        },
        "id": "MkEinyuWyR6F",
        "outputId": "6de15db6-2c94-48ad-8117-a2b2e4c54ee8"
      },
      "execution_count": 15,
      "outputs": [
        {
          "output_type": "stream",
          "name": "stdout",
          "text": [
            "0.0%\n"
          ]
        }
      ]
    },
    {
      "cell_type": "markdown",
      "source": [
        "#### Taxa Aprovados (Status Efetivado e Abandono)"
      ],
      "metadata": {
        "id": "21Dj_aow1Vfo"
      }
    },
    {
      "cell_type": "code",
      "source": [
        "query_taxa_aprovacao = \"\"\"\n",
        "SELECT\n",
        "    CASE WHEN COUNT(DISTINCT id_proposta)=0 THEN 0\n",
        "         ELSE ROUND(\n",
        "             COUNT(DISTINCT CASE WHEN status IN ('APROVADO', 'EFETIVADO', 'ABANDONO') THEN id_proposta END)::NUMERIC\n",
        "             / COUNT(DISTINCT id_proposta)::NUMERIC * 100, 2)\n",
        "    END AS taxa_aprovacao\n",
        "FROM vw_kpi_base;\n",
        "\"\"\"\n",
        "\n",
        "kpi_taxa_aprovacao_esp = get_kpi(query_taxa_aprovacao)\n",
        "print(str(kpi_taxa_aprovacao_esp.iloc[0,0]) + '%')"
      ],
      "metadata": {
        "colab": {
          "base_uri": "https://localhost:8080/"
        },
        "id": "eeVIxTE31fH7",
        "outputId": "256f78e1-249b-4358-a3f2-52829ba4a085"
      },
      "execution_count": 16,
      "outputs": [
        {
          "output_type": "stream",
          "name": "stdout",
          "text": [
            "30.0%\n"
          ]
        }
      ]
    },
    {
      "cell_type": "markdown",
      "source": [
        "##### Taxa de Efetivação %"
      ],
      "metadata": {
        "id": "WV-CwaHcyvIW"
      }
    },
    {
      "cell_type": "code",
      "source": [
        "query_taxa_efetivacao = \"\"\"\n",
        "SELECT\n",
        "    CASE WHEN COUNT(DISTINCT id_proposta)=0 THEN 0\n",
        "         ELSE ROUND(\n",
        "             COUNT(DISTINCT CASE WHEN status='EFETIVADO' THEN id_proposta END)::NUMERIC\n",
        "             / COUNT(DISTINCT id_proposta)::NUMERIC * 100, 2)\n",
        "    END AS taxa_efetivacao\n",
        "FROM vw_kpi_base;\n",
        "\"\"\"\n",
        "\n",
        "kpi_taxa_efetivacao = get_kpi(query_taxa_efetivacao)\n",
        "print(str(kpi_taxa_efetivacao.iloc[0,0]) + '%')"
      ],
      "metadata": {
        "colab": {
          "base_uri": "https://localhost:8080/"
        },
        "id": "Ya_9YomPyxok",
        "outputId": "34ea9580-46de-474e-b81f-b7c52ae61a20"
      },
      "execution_count": 17,
      "outputs": [
        {
          "output_type": "stream",
          "name": "stdout",
          "text": [
            "27.0%\n"
          ]
        }
      ]
    },
    {
      "cell_type": "markdown",
      "source": [
        "#### Taxa de Abandono %"
      ],
      "metadata": {
        "id": "7ZsrbheRy_Qw"
      }
    },
    {
      "cell_type": "code",
      "source": [
        "query_taxa_abandono = \"\"\"\n",
        "SELECT\n",
        "    CASE WHEN COUNT(DISTINCT id_proposta)=0 THEN 0\n",
        "         ELSE ROUND(\n",
        "             COUNT(DISTINCT CASE WHEN status='ABANDONO' THEN id_proposta END)::NUMERIC\n",
        "             / COUNT(DISTINCT id_proposta)::NUMERIC * 100, 2)\n",
        "    END AS taxa_abandono\n",
        "FROM vw_kpi_base;\n",
        "\"\"\"\n",
        "\n",
        "kpi_taxa_abandono = get_kpi(query_taxa_abandono)\n",
        "print(str(kpi_taxa_abandono.iloc[0,0]) + '%')"
      ],
      "metadata": {
        "colab": {
          "base_uri": "https://localhost:8080/"
        },
        "id": "bQSvVZyrzCf3",
        "outputId": "96fc7d99-4e08-4699-ad9b-e15c7d00f02c"
      },
      "execution_count": 18,
      "outputs": [
        {
          "output_type": "stream",
          "name": "stdout",
          "text": [
            "3.0%\n"
          ]
        }
      ]
    },
    {
      "cell_type": "markdown",
      "source": [
        "##### Taxa de Negativação %"
      ],
      "metadata": {
        "id": "SK6ALSX0zQ1K"
      }
    },
    {
      "cell_type": "code",
      "source": [
        "query_taxa_negativacao = \"\"\"\n",
        "SELECT\n",
        "    CASE WHEN COUNT(DISTINCT id_proposta)=0 THEN 0\n",
        "         ELSE ROUND(\n",
        "             COUNT(DISTINCT CASE WHEN status='REPROVADO' AND motivo_reprovacao='Negativado'\n",
        "                                 THEN id_proposta END)::NUMERIC\n",
        "             / COUNT(DISTINCT id_proposta)::NUMERIC * 100, 2)\n",
        "    END AS taxa_negativacao\n",
        "FROM vw_kpi_base;\n",
        "\"\"\"\n",
        "\n",
        "kpi_taxa_negativacao = get_kpi(query_taxa_negativacao)\n",
        "print(str(kpi_taxa_negativacao.iloc[0,0]) + '%')"
      ],
      "metadata": {
        "colab": {
          "base_uri": "https://localhost:8080/"
        },
        "id": "71PSyrlizWYb",
        "outputId": "32c1d23e-8d79-4d65-8705-3b803c27029a"
      },
      "execution_count": 19,
      "outputs": [
        {
          "output_type": "stream",
          "name": "stdout",
          "text": [
            "18.0%\n"
          ]
        }
      ]
    },
    {
      "cell_type": "markdown",
      "source": [
        "#### Taxa Política de Crédito %"
      ],
      "metadata": {
        "id": "FiOMtwLN0d29"
      }
    },
    {
      "cell_type": "code",
      "source": [
        "query_taxa_politica = \"\"\"\n",
        "SELECT\n",
        "    CASE WHEN COUNT(DISTINCT id_proposta)=0 THEN 0\n",
        "         ELSE ROUND(\n",
        "             COUNT(DISTINCT CASE WHEN status='REPROVADO' AND motivo_reprovacao='Politica de Credito'\n",
        "                                 THEN id_proposta END)::NUMERIC\n",
        "             / COUNT(DISTINCT id_proposta)::NUMERIC * 100, 2)\n",
        "    END AS taxa_politica_credito\n",
        "FROM vw_kpi_base;\n",
        "\"\"\"\n",
        "\n",
        "kpi_taxa_politica = get_kpi(query_taxa_politica)\n",
        "print(str(kpi_taxa_politica.iloc[0,0]) + '%')"
      ],
      "metadata": {
        "colab": {
          "base_uri": "https://localhost:8080/"
        },
        "id": "qdDll6ra0Rs7",
        "outputId": "53f9602c-b0c9-45df-c384-fc8489d791ed"
      },
      "execution_count": 20,
      "outputs": [
        {
          "output_type": "stream",
          "name": "stdout",
          "text": [
            "20.0%\n"
          ]
        }
      ]
    },
    {
      "cell_type": "markdown",
      "source": [
        "#### Taxa Ponto de Corte %"
      ],
      "metadata": {
        "id": "bV_eCc0X0ykO"
      }
    },
    {
      "cell_type": "code",
      "source": [
        "query_taxa_ponto_corte = \"\"\"\n",
        "SELECT\n",
        "    CASE WHEN COUNT(DISTINCT id_proposta)=0 THEN 0\n",
        "         ELSE ROUND(\n",
        "             COUNT(DISTINCT CASE WHEN status='REPROVADO' AND motivo_reprovacao='Ponto de Corte'\n",
        "                                 THEN id_proposta END)::NUMERIC\n",
        "             / COUNT(DISTINCT id_proposta)::NUMERIC * 100, 2)\n",
        "    END AS taxa_ponto_corte\n",
        "FROM vw_kpi_base;\n",
        "\"\"\"\n",
        "\n",
        "kpi_taxa_ponto_corte = get_kpi(query_taxa_ponto_corte)\n",
        "print(str(kpi_taxa_ponto_corte.iloc[0,0]) + '%')"
      ],
      "metadata": {
        "colab": {
          "base_uri": "https://localhost:8080/"
        },
        "id": "KZm5P2YG04Wv",
        "outputId": "7602b541-731c-44fa-8043-2772fa0b641a"
      },
      "execution_count": 21,
      "outputs": [
        {
          "output_type": "stream",
          "name": "stdout",
          "text": [
            "32.0%\n"
          ]
        }
      ]
    },
    {
      "cell_type": "markdown",
      "source": [
        "#### Taxa de Ativação"
      ],
      "metadata": {
        "id": "uhwGJPYN9ZVd"
      }
    },
    {
      "cell_type": "code",
      "source": [
        "query_taxa_ativacao = \"\"\"\n",
        "SELECT\n",
        "    CASE WHEN COUNT(DISTINCT CASE WHEN status IN ('APROVADO','EFETIVADO','ABANDONO') THEN id_conta END)=0 THEN 0\n",
        "         ELSE ROUND(\n",
        "             COUNT(DISTINCT CASE WHEN status IN ('APROVADO','EFETIVADO','ABANDONO') AND id_transacao IS NOT NULL THEN id_conta END)::NUMERIC\n",
        "             / COUNT(DISTINCT CASE WHEN status IN ('APROVADO','EFETIVADO','ABANDONO') THEN id_conta END)::NUMERIC * 100, 2)\n",
        "    END AS taxa_ativacao\n",
        "FROM vw_kpi_base;\n",
        "\"\"\"\n",
        "\n",
        "kpi_taxa_ativacao = get_kpi(query_taxa_ativacao)\n",
        "print(str(kpi_taxa_ativacao.iloc[0,0]) + '%')\n"
      ],
      "metadata": {
        "colab": {
          "base_uri": "https://localhost:8080/"
        },
        "id": "CEyYVofJ9d-X",
        "outputId": "7ea8f77e-8c30-4007-d279-0cc2c11669f3"
      },
      "execution_count": 22,
      "outputs": [
        {
          "output_type": "stream",
          "name": "stdout",
          "text": [
            "100.0%\n"
          ]
        }
      ]
    },
    {
      "cell_type": "markdown",
      "source": [
        "#### Limite Concedido (R$)"
      ],
      "metadata": {
        "id": "0SgkelEC-LH4"
      }
    },
    {
      "cell_type": "code",
      "source": [
        "query_limite_concedido = \"\"\"\n",
        "SELECT\n",
        "    ROUND(COALESCE(SUM(limite), 0), 2) AS limite_concedido\n",
        "FROM (\n",
        "    SELECT DISTINCT id_proposta, limite\n",
        "    FROM vw_kpi_base\n",
        "    WHERE status='EFETIVADO'\n",
        ") sub;\n",
        "\"\"\"\n",
        "\n",
        "kpi_limite_concedido = get_kpi(query_limite_concedido)\n",
        "print('R$ ' + str(kpi_limite_concedido.iloc[0,0]))\n"
      ],
      "metadata": {
        "colab": {
          "base_uri": "https://localhost:8080/"
        },
        "id": "he0Qi1RD-Spq",
        "outputId": "978bd720-c42c-4704-bd6b-1346db616525"
      },
      "execution_count": 23,
      "outputs": [
        {
          "output_type": "stream",
          "name": "stdout",
          "text": [
            "R$ 54650.0\n"
          ]
        }
      ]
    },
    {
      "cell_type": "markdown",
      "source": [
        "#### Utilização de Limite Primeira Compra (R$)"
      ],
      "metadata": {
        "id": "JmNgqS39_rqn"
      }
    },
    {
      "cell_type": "code",
      "source": [
        "query_primeira_compra = \"\"\"\n",
        "WITH primeira_transacao AS (\n",
        "    SELECT\n",
        "        id_conta,\n",
        "        MIN(data_transacao) AS primeira_data\n",
        "    FROM btestesql_transacoes\n",
        "    GROUP BY id_conta\n",
        ")\n",
        "SELECT\n",
        "    ROUND(COALESCE(SUM(t.valor), 0), 2) AS primeira_compra\n",
        "FROM btestesql_transacoes t\n",
        "JOIN primeira_transacao p\n",
        "    ON t.id_conta = p.id_conta\n",
        "   AND t.data_transacao = p.primeira_data\n",
        "JOIN btestesql_propostas pr\n",
        "    ON pr.id_conta = t.id_conta\n",
        "   AND pr.status = 'EFETIVADO';\n",
        "\"\"\"\n",
        "\n",
        "kpi_primeira_compra = get_kpi(query_primeira_compra)\n",
        "print('R$ ' + str(kpi_primeira_compra.iloc[0,0]))"
      ],
      "metadata": {
        "colab": {
          "base_uri": "https://localhost:8080/"
        },
        "id": "_-AwbBQh_tqf",
        "outputId": "2143325d-43e6-4742-8262-973b58cfe6d4"
      },
      "execution_count": 24,
      "outputs": [
        {
          "output_type": "stream",
          "name": "stdout",
          "text": [
            "R$ 34456.27\n"
          ]
        }
      ]
    },
    {
      "cell_type": "markdown",
      "source": [
        "#### Taxa de Utilização de Limite Primeira compra"
      ],
      "metadata": {
        "id": "zaYooWIABNWE"
      }
    },
    {
      "cell_type": "code",
      "source": [
        "query_utilizacao_limite = \"\"\"\n",
        "WITH primeira_transacao AS (\n",
        "    SELECT\n",
        "        id_conta,\n",
        "        MIN(data_transacao) AS primeira_data\n",
        "    FROM btestesql_transacoes\n",
        "    GROUP BY id_conta\n",
        "),\n",
        "limites_distintos AS (\n",
        "    SELECT DISTINCT id_proposta, limite, id_conta\n",
        "    FROM btestesql_propostas\n",
        "    WHERE status = 'EFETIVADO'\n",
        ")\n",
        "SELECT\n",
        "    CASE\n",
        "        WHEN SUM(ld.limite)=0 THEN 0\n",
        "        ELSE ROUND(\n",
        "            SUM(t.valor)::NUMERIC / SUM(ld.limite)::NUMERIC * 100, 2)\n",
        "    END AS utilizacao_limite\n",
        "FROM btestesql_transacoes t\n",
        "JOIN primeira_transacao pt\n",
        "    ON t.id_conta = pt.id_conta\n",
        "   AND t.data_transacao = pt.primeira_data\n",
        "JOIN limites_distintos ld\n",
        "    ON ld.id_conta = t.id_conta;\n",
        "\"\"\"\n",
        "\n",
        "kpi_utilizacao_limite = get_kpi(query_utilizacao_limite)\n",
        "print(str(kpi_utilizacao_limite.iloc[0,0]) + '%')\n"
      ],
      "metadata": {
        "colab": {
          "base_uri": "https://localhost:8080/"
        },
        "id": "rohBhWoPBS6V",
        "outputId": "f4366825-0d0d-478e-d739-784418be0d9e"
      },
      "execution_count": 25,
      "outputs": [
        {
          "output_type": "stream",
          "name": "stdout",
          "text": [
            "61.26%\n"
          ]
        }
      ]
    },
    {
      "cell_type": "markdown",
      "source": [
        "#### Saldo em Over 30 Mob 2 por Ramo"
      ],
      "metadata": {
        "id": "PpwMxbGmK_M1"
      }
    },
    {
      "cell_type": "code",
      "source": [
        "query_over30_ramo = \"\"\"\n",
        "WITH carteira_mob AS (\n",
        "    SELECT DISTINCT\n",
        "        c.referencia,\n",
        "        c.id_conta,\n",
        "        l.ramo_sistema,\n",
        "        c.saldo,\n",
        "        c.atraso,\n",
        "        p.data_proposta,\n",
        "        ((EXTRACT(YEAR FROM c.referencia) - EXTRACT(YEAR FROM p.data_proposta)) * 12 +\n",
        "         (EXTRACT(MONTH FROM c.referencia) - EXTRACT(MONTH FROM p.data_proposta))) AS mob\n",
        "    FROM btestesql_carteira c\n",
        "    JOIN btestesql_propostas p ON p.id_conta = c.id_conta\n",
        "    JOIN btestesql_loja l ON l.id_loja = p.id_loja\n",
        "),\n",
        "ramos AS (\n",
        "    SELECT DISTINCT ramo_sistema\n",
        "    FROM btestesql_loja\n",
        "),\n",
        "calc AS (\n",
        "    SELECT\n",
        "        ramo_sistema,\n",
        "        ROUND(SUM(saldo), 2) AS over30_mob2\n",
        "    FROM carteira_mob\n",
        "    WHERE mob = 2\n",
        "      AND atraso > 30\n",
        "    GROUP BY ramo_sistema\n",
        ")\n",
        "SELECT\n",
        "    r.ramo_sistema,\n",
        "    COALESCE(c.over30_mob2, 0) AS over30_mob2\n",
        "FROM ramos r\n",
        "LEFT JOIN calc c\n",
        "    ON r.ramo_sistema = c.ramo_sistema\n",
        "ORDER BY r.ramo_sistema;\n",
        "\"\"\"\n",
        "\n",
        "kpi_over30_ramo = get_kpi(query_over30_ramo)\n",
        "print(kpi_over30_ramo.to_string(index=False))\n"
      ],
      "metadata": {
        "colab": {
          "base_uri": "https://localhost:8080/"
        },
        "id": "-zrRsToXK-Mf",
        "outputId": "3c99e0c1-7e87-405c-aea7-549c6a968636"
      },
      "execution_count": 26,
      "outputs": [
        {
          "output_type": "stream",
          "name": "stdout",
          "text": [
            "ramo_sistema  over30_mob2\n",
            "      Ramo 1         0.00\n",
            "      Ramo 2      2538.15\n",
            "      Ramo 3         0.00\n",
            "      Ramo 4      2592.61\n",
            "      Ramo 5      1030.00\n",
            "      Ramo 6         0.00\n"
          ]
        }
      ]
    },
    {
      "cell_type": "markdown",
      "source": [
        "### **Etapa de Visualização e Dashboard**\n",
        "\n",
        "Obs.: Etapa para criação gráfica e dashboard. Este notebook foi feito para demonstrar o processo ETL de dados, porém não substituindo utilizações de Power Bi e Excel para apresentações e publicações."
      ],
      "metadata": {
        "id": "_mK5ZdllwPx9"
      }
    },
    {
      "cell_type": "code",
      "source": [
        "# @title\n",
        "\n",
        "import matplotlib.pyplot as plt\n",
        "import seaborn as sns\n",
        "import pandas as pd\n",
        "from IPython.display import HTML, display\n",
        "\n",
        "# Paletas de cores\n",
        "sns.set_style(\"whitegrid\")\n",
        "palette_bar = sns.color_palette(\"Set2\")\n",
        "palette_pie = sns.color_palette(\"pastel\")\n",
        "\n",
        "# ========== CABEÇALHO ==========\n",
        "display(HTML(f\"\"\"\n",
        "<div style='display:flex; justify-content:center; margin:40px 0;'>\n",
        "    <div style='width:60%; border:1px solid #cccccc; background-color:#ffffff;\n",
        "                padding:25px; border-radius:10px;\n",
        "                box-shadow: 0 2px 8px rgba(0,0,0,0.08); text-align:center;'>\n",
        "        <h1 style='font-size:34px; font-weight:bold; color:#2c3e50; margin:0;'>\n",
        "            Dashboard Dados Crédito\n",
        "        </h1>\n",
        "    </div>\n",
        "</div>\n",
        "\"\"\"))\n",
        "\n",
        "\n",
        "# ========== TABELA ==========\n",
        "tabela_exec = pd.DataFrame([\n",
        "    ['% Taxa Aprovação', f\"{kpi_taxa_aprovacao.iloc[0,0]}%\"],\n",
        "    ['% Taxa Aprovação Esp', f\"{kpi_taxa_aprovacao_esp.iloc[0,0]}%\"],\n",
        "    ['% Taxa Efetivação', f\"{kpi_taxa_efetivacao.iloc[0,0]}%\"],\n",
        "    ['% Taxa Abandono', f\"{kpi_taxa_abandono.iloc[0,0]}%\"],\n",
        "    ['% Taxa Negativação', f\"{kpi_taxa_negativacao.iloc[0,0]}%\"],\n",
        "    ['% Política Crédito', f\"{kpi_taxa_politica.iloc[0,0]}%\"],\n",
        "    ['% Ponto de Corte', f\"{kpi_taxa_ponto_corte.iloc[0,0]}%\"],\n",
        "    ['% Ativação', f\"{kpi_taxa_ativacao.iloc[0,0]}%\"],\n",
        "    ['R$ Limite Concedido', f\"R$ {kpi_limite_concedido.iloc[0,0]:,.2f}\"],\n",
        "    ['R$ Primeira Compra', f\"R$ {kpi_primeira_compra.iloc[0,0]:,.2f}\"],\n",
        "    ['% Utilização Limite', f\"{kpi_utilizacao_limite.iloc[0,0]}%\"]\n",
        "], columns=['Indicador', 'Valor'])\n",
        "\n",
        "# Estilo HTML\n",
        "html_table = tabela_exec.style.set_table_styles([\n",
        "    {'selector': 'thead th',\n",
        "     'props': [('background-color', '#f7f7f7'), ('color', '#2c3e50'),\n",
        "               ('font-weight', 'bold'), ('font-size', '18px'),\n",
        "               ('text-align', 'center'), ('padding', '8px'),\n",
        "               ('border-bottom', '2px solid #ccc')]},\n",
        "    {'selector': 'tbody td',\n",
        "     'props': [('padding', '10px'), ('border', '1px solid #e0e0e0'),\n",
        "               ('font-size', '16px'), ('text-align', 'center')]},\n",
        "    {'selector': 'tbody tr:nth-child(even)',\n",
        "     'props': [('background-color', '#f9f9f9')]},\n",
        "    {'selector': 'tbody tr:nth-child(odd)',\n",
        "     'props': [('background-color', '#ffffff')]},\n",
        "], overwrite=False).hide(axis='index').set_properties(\n",
        "    subset=['Indicador'], **{'color': '#2c3e50', 'font-weight': 'bold', 'text-align':'left'}\n",
        ").set_properties(\n",
        "    subset=['Valor'], **{'color': '#2a7f62', 'font-weight': 'bold', 'font-size':'18px'}\n",
        ").to_html()\n",
        "\n",
        "# Exibição de tabela\n",
        "display(HTML(f\"\"\"\n",
        "<center>\n",
        "<div style='width:60%; max-width:800px; border:1px solid #cccccc; background-color:#ffffff;\n",
        "            padding:25px; border-radius:10px;\n",
        "            box-shadow: 0 2px 8px rgba(0,0,0,0.08); text-align:center; margin:30px 0;'>\n",
        "    {html_table}\n",
        "</div>\n",
        "</center>\n",
        "\"\"\"))\n",
        "\n",
        "import warnings\n",
        "warnings.filterwarnings(\"ignore\", category=FutureWarning)\n",
        "\n",
        "# ========== GRADE DE GRÁFICOS ========== #\n",
        "fig, axes = plt.subplots(3, 3, figsize=(22, 18), facecolor='#f8f8f8')\n",
        "axes = axes.flatten()\n",
        "\n",
        "# Ajuste de espaçamento\n",
        "plt.subplots_adjust(wspace=0.3, hspace=0.45)\n",
        "\n",
        "# Paleta de labels\n",
        "palette_semantica = {\n",
        "    'APROVADO': '#2ecc71',     # verde claro\n",
        "    'REPROVADO': '#e74c3c',    # vermelho claro\n",
        "    'EFETIVADO': '#27ae60',    # verde médio\n",
        "    'ABANDONO': '#f1c40f',     # amarelo\n",
        "    'NEUTRO': '#3498db'        # azul\n",
        "}\n",
        "palette_bar = [palette_semantica.get(x, '#3498db') for x in kpi_total_segmentado['status'].unique()]\n",
        "\n",
        "# Estilo clean com bordas suaves\n",
        "for ax in axes:\n",
        "    ax.set_facecolor('#ffffff')\n",
        "    for spine in ax.spines.values():\n",
        "        spine.set_edgecolor('#dddddd')\n",
        "        spine.set_linewidth(1)\n",
        "    ax.tick_params(colors='#333333', labelsize=11)\n",
        "\n",
        "# ===== Total de Propostas =====\n",
        "sns.barplot(data=kpi_total_segmentado, x='status', y='total', ax=axes[0],\n",
        "            hue='status', dodge=False, palette=palette_bar, legend=False)\n",
        "axes[0].set_title(\"Total de Propostas\", fontsize=18, fontweight='bold', color='#2c3e50')\n",
        "axes[0].set_ylabel(\"\")\n",
        "for container in axes[0].containers:\n",
        "    axes[0].bar_label(container, fmt='%d', label_type='center', fontweight='bold', color='black')\n",
        "\n",
        "# ===== Efetivado x Abandono =====\n",
        "efet = kpi_total_segmentado[kpi_total_segmentado['status']=='EFETIVADO']['total'].sum()\n",
        "aband = kpi_total_segmentado[kpi_total_segmentado['status']=='ABANDONO']['total'].sum()\n",
        "axes[1].pie([efet, aband], labels=['Efetivado','Abandono'], autopct=lambda p: f'{p:.1f}%' if p > 0 else '',\n",
        "            startangle=90, wedgeprops={'width':0.4},\n",
        "            colors=[palette_semantica['EFETIVADO'], palette_semantica['ABANDONO']],\n",
        "            textprops={'weight':'bold', 'color':'#333'})\n",
        "axes[1].set_title(\"Efetivado x Abandono\", fontsize=18, fontweight='bold', color='#2c3e50')\n",
        "\n",
        "# ===== Aprovado x Reprovado =====\n",
        "aprov = kpi_total_segmentado[kpi_total_segmentado['status']=='APROVADO']['total'].sum()\n",
        "reprov = kpi_total_segmentado[kpi_total_segmentado['status']=='REPROVADO']['total'].sum()\n",
        "axes[2].pie([aprov, reprov], labels=['Aprovado','Reprovado'], autopct=lambda p: f'{p:.1f}%' if p > 0 else '',\n",
        "            startangle=90, wedgeprops={'width':0.4},\n",
        "            colors=[palette_semantica['APROVADO'], palette_semantica['REPROVADO']],\n",
        "            textprops={'weight':'bold', 'color':'#333'})\n",
        "axes[2].set_title(\"Aprovado x Reprovado\", fontsize=18, fontweight='bold', color='#2c3e50')\n",
        "\n",
        "# ===== Motivos de Reprovação =====\n",
        "sns.barplot(data=kpi_reprovadas_motivos.sort_values('total', ascending=False),\n",
        "            y='motivo_reprovacao', x='total', ax=axes[3],\n",
        "            color=palette_semantica['REPROVADO'], legend=False)\n",
        "axes[3].set_title(\"Motivos de Reprovação\", fontsize=18, fontweight='bold', color='#2c3e50')\n",
        "axes[3].set_ylabel(\"\")\n",
        "for container in axes[3].containers:\n",
        "    axes[3].bar_label(container, fmt=lambda v: f'{int(v)}' if v>0 else '', label_type='center', fontweight='bold', color='black')\n",
        "\n",
        "# ===== Aprovados por Faixa =====\n",
        "sns.barplot(data=kpi_aprovados_fxscore.sort_values('total', ascending=False),\n",
        "            y='fx_score', x='total', ax=axes[4], color=palette_semantica['APROVADO'])\n",
        "axes[4].set_title(\"Aprovados por Faixa\", fontsize=18, fontweight='bold', color='#2c3e50')\n",
        "axes[4].set_ylabel(\"\")\n",
        "for container in axes[4].containers:\n",
        "    axes[4].bar_label(container, fmt=lambda v: f'{int(v)}' if v>0 else '', label_type='center', fontweight='bold', color='black')\n",
        "\n",
        "# ===== Reprovados por Faixa =====\n",
        "sns.barplot(data=kpi_reprovados_fxscore.sort_values('total', ascending=False),\n",
        "            y='fx_score', x='total', ax=axes[5], color=palette_semantica['REPROVADO'])\n",
        "axes[5].set_title(\"Reprovados por Faixa\", fontsize=18, fontweight='bold', color='#2c3e50')\n",
        "axes[5].set_ylabel(\"\")\n",
        "for container in axes[5].containers:\n",
        "    axes[5].bar_label(container, fmt=lambda v: f'{int(v)}' if v>0 else '', label_type='center', fontweight='bold', color='black')\n",
        "\n",
        "# ===== Cartão Bureau =====\n",
        "axes[6].axis('off')\n",
        "axes[6].add_patch(plt.Rectangle((0,0),1,1, fill=True, color='#fdfdfd', ec='#cccccc', lw=1.5))\n",
        "axes[6].text(0.5, 0.7, f\"Bureau 1\\n{valor_b1}\", ha='center', va='center', fontsize=20, weight='bold', color='#2c3e50')\n",
        "axes[6].text(0.5, 0.3, f\"Bureau 2\\n{valor_b2}\", ha='center', va='center', fontsize=20, weight='bold', color='#2c3e50')\n",
        "axes[6].set_title(\"Negativados Bureau\", fontsize=18, fontweight='bold', color='#2c3e50')\n",
        "\n",
        "# ===== Over 30 Mob 2 =====\n",
        "df_ramo = kpi_over30_ramo[kpi_over30_ramo['over30_mob2'] > 0]\n",
        "axes[7].pie(df_ramo['over30_mob2'], labels=df_ramo['ramo_sistema'], autopct=lambda p: f'{p:.1f}%' if p > 0 else '',\n",
        "            startangle=90, colors=['#f1c40f','#f39c12','#d35400'],\n",
        "            textprops={'weight':'bold', 'color':'#333'})\n",
        "axes[7].set_title(\"Over 30 Mob 2 por Ramo\", fontsize=18, fontweight='bold', color='#2c3e50')\n",
        "\n",
        "# ===== % Utilização =====\n",
        "axes[8].axis('off')\n",
        "axes[8].add_patch(plt.Rectangle((0,0),1,1, fill=True, color='#fdfdfd', ec='#cccccc', lw=1.5))\n",
        "axes[8].text(0.5, 0.5, f\"% Utilização\\n{kpi_utilizacao_limite.iloc[0,0]}%\", ha='center', va='center', fontsize=24, weight='bold', color='#2c3e50')\n",
        "axes[8].set_title(\"% Utilização Limite\", fontsize=18, fontweight='bold', color='#2c3e50')\n",
        "\n",
        "plt.show()\n"
      ],
      "metadata": {
        "colab": {
          "base_uri": "https://localhost:8080/",
          "height": 1000
        },
        "cellView": "form",
        "id": "GDoT_B1Pwli6",
        "outputId": "3947cd42-8273-4639-9e3c-2cfca6845709"
      },
      "execution_count": 46,
      "outputs": [
        {
          "output_type": "display_data",
          "data": {
            "text/plain": [
              "<IPython.core.display.HTML object>"
            ],
            "text/html": [
              "\n",
              "<div style='display:flex; justify-content:center; margin:40px 0;'>\n",
              "    <div style='width:60%; border:1px solid #cccccc; background-color:#ffffff; \n",
              "                padding:25px; border-radius:10px; \n",
              "                box-shadow: 0 2px 8px rgba(0,0,0,0.08); text-align:center;'>\n",
              "        <h1 style='font-size:34px; font-weight:bold; color:#2c3e50; margin:0;'>\n",
              "            Dashboard Dados Crédito\n",
              "        </h1>\n",
              "    </div>\n",
              "</div>\n"
            ]
          },
          "metadata": {}
        },
        {
          "output_type": "display_data",
          "data": {
            "text/plain": [
              "<IPython.core.display.HTML object>"
            ],
            "text/html": [
              "\n",
              "<center>\n",
              "<div style='width:60%; max-width:800px; border:1px solid #cccccc; background-color:#ffffff; \n",
              "            padding:25px; border-radius:10px; \n",
              "            box-shadow: 0 2px 8px rgba(0,0,0,0.08); text-align:center; margin:30px 0;'>\n",
              "    <style type=\"text/css\">\n",
              "#T_1e55a thead th {\n",
              "  background-color: #f7f7f7;\n",
              "  color: #2c3e50;\n",
              "  font-weight: bold;\n",
              "  font-size: 18px;\n",
              "  text-align: center;\n",
              "  padding: 8px;\n",
              "  border-bottom: 2px solid #ccc;\n",
              "}\n",
              "#T_1e55a tbody td {\n",
              "  padding: 10px;\n",
              "  border: 1px solid #e0e0e0;\n",
              "  font-size: 16px;\n",
              "  text-align: center;\n",
              "}\n",
              "#T_1e55a tbody tr:nth-child(even) {\n",
              "  background-color: #f9f9f9;\n",
              "}\n",
              "#T_1e55a tbody tr:nth-child(odd) {\n",
              "  background-color: #ffffff;\n",
              "}\n",
              "#T_1e55a_row0_col0, #T_1e55a_row1_col0, #T_1e55a_row2_col0, #T_1e55a_row3_col0, #T_1e55a_row4_col0, #T_1e55a_row5_col0, #T_1e55a_row6_col0, #T_1e55a_row7_col0, #T_1e55a_row8_col0, #T_1e55a_row9_col0, #T_1e55a_row10_col0 {\n",
              "  color: #2c3e50;\n",
              "  font-weight: bold;\n",
              "  text-align: left;\n",
              "}\n",
              "#T_1e55a_row0_col1, #T_1e55a_row1_col1, #T_1e55a_row2_col1, #T_1e55a_row3_col1, #T_1e55a_row4_col1, #T_1e55a_row5_col1, #T_1e55a_row6_col1, #T_1e55a_row7_col1, #T_1e55a_row8_col1, #T_1e55a_row9_col1, #T_1e55a_row10_col1 {\n",
              "  color: #2a7f62;\n",
              "  font-weight: bold;\n",
              "  font-size: 18px;\n",
              "}\n",
              "</style>\n",
              "<table id=\"T_1e55a\">\n",
              "  <thead>\n",
              "    <tr>\n",
              "      <th id=\"T_1e55a_level0_col0\" class=\"col_heading level0 col0\" >Indicador</th>\n",
              "      <th id=\"T_1e55a_level0_col1\" class=\"col_heading level0 col1\" >Valor</th>\n",
              "    </tr>\n",
              "  </thead>\n",
              "  <tbody>\n",
              "    <tr>\n",
              "      <td id=\"T_1e55a_row0_col0\" class=\"data row0 col0\" >% Taxa Aprovação</td>\n",
              "      <td id=\"T_1e55a_row0_col1\" class=\"data row0 col1\" >0.0%</td>\n",
              "    </tr>\n",
              "    <tr>\n",
              "      <td id=\"T_1e55a_row1_col0\" class=\"data row1 col0\" >% Taxa Aprovação Esp</td>\n",
              "      <td id=\"T_1e55a_row1_col1\" class=\"data row1 col1\" >30.0%</td>\n",
              "    </tr>\n",
              "    <tr>\n",
              "      <td id=\"T_1e55a_row2_col0\" class=\"data row2 col0\" >% Taxa Efetivação</td>\n",
              "      <td id=\"T_1e55a_row2_col1\" class=\"data row2 col1\" >27.0%</td>\n",
              "    </tr>\n",
              "    <tr>\n",
              "      <td id=\"T_1e55a_row3_col0\" class=\"data row3 col0\" >% Taxa Abandono</td>\n",
              "      <td id=\"T_1e55a_row3_col1\" class=\"data row3 col1\" >3.0%</td>\n",
              "    </tr>\n",
              "    <tr>\n",
              "      <td id=\"T_1e55a_row4_col0\" class=\"data row4 col0\" >% Taxa Negativação</td>\n",
              "      <td id=\"T_1e55a_row4_col1\" class=\"data row4 col1\" >18.0%</td>\n",
              "    </tr>\n",
              "    <tr>\n",
              "      <td id=\"T_1e55a_row5_col0\" class=\"data row5 col0\" >% Política Crédito</td>\n",
              "      <td id=\"T_1e55a_row5_col1\" class=\"data row5 col1\" >20.0%</td>\n",
              "    </tr>\n",
              "    <tr>\n",
              "      <td id=\"T_1e55a_row6_col0\" class=\"data row6 col0\" >% Ponto de Corte</td>\n",
              "      <td id=\"T_1e55a_row6_col1\" class=\"data row6 col1\" >32.0%</td>\n",
              "    </tr>\n",
              "    <tr>\n",
              "      <td id=\"T_1e55a_row7_col0\" class=\"data row7 col0\" >% Ativação</td>\n",
              "      <td id=\"T_1e55a_row7_col1\" class=\"data row7 col1\" >100.0%</td>\n",
              "    </tr>\n",
              "    <tr>\n",
              "      <td id=\"T_1e55a_row8_col0\" class=\"data row8 col0\" >R$ Limite Concedido</td>\n",
              "      <td id=\"T_1e55a_row8_col1\" class=\"data row8 col1\" >R$ 54,650.00</td>\n",
              "    </tr>\n",
              "    <tr>\n",
              "      <td id=\"T_1e55a_row9_col0\" class=\"data row9 col0\" >R$ Primeira Compra</td>\n",
              "      <td id=\"T_1e55a_row9_col1\" class=\"data row9 col1\" >R$ 34,456.27</td>\n",
              "    </tr>\n",
              "    <tr>\n",
              "      <td id=\"T_1e55a_row10_col0\" class=\"data row10 col0\" >% Utilização Limite</td>\n",
              "      <td id=\"T_1e55a_row10_col1\" class=\"data row10 col1\" >61.26%</td>\n",
              "    </tr>\n",
              "  </tbody>\n",
              "</table>\n",
              "\n",
              "</div>\n",
              "</center>\n"
            ]
          },
          "metadata": {}
        },
        {
          "output_type": "display_data",
          "data": {
            "text/plain": [
              "<Figure size 2200x1800 with 9 Axes>"
            ],
            "image/png": "[encoded data removed]"
          },
          "metadata": {}
        }
      ]
    },
    {
      "cell_type": "markdown",
      "source": [
        "### **Parte Final - Considerações da base e teste.**\n",
        "\n",
        "#### **Insights**\n",
        "\n",
        "*   Conversão Geral de Propostas\n",
        "Considerando uma conversão geral de 30% o funil tem se mostrado saudável, porém com oportunidades de melhoria visto que dos 30% convertido, 10% destes (3% total) são  propostas abandonadas que poderiam incrementar o funil.\n",
        "*   Reprovação em 70% do total onde, desses 70%, ~46% tem um perfil de política de Score fora das regraas de negócio (corte) + ~29% de Política de Crédito totalizando ~75% das 70 propostas recusadas. É importante entender quais regras estão bloqueando crédito e qual o nível de sensibilidade para maior oferta de crédito.\n",
        "*   Faixas de Score em 1 e 5 indicando que o modelo libera bem nas pontas do Score, Reprovados concentrados nas faixas intermediárias e baixas o que pode apontar inadimplência, alto nível de endividamento e/ou baixo perfil de crédito nessas áreas.\n",
        "*   Bureau 1 tem 61% dos negativados frente a 39% do Bureau 2, preciso avaliar se está mais conservador que o Bureau 2 e se isso alinha-se com perfil da empresa e histórico.\n",
        "*   Utilização média inicial de 63% do limite concedido o que indica que está sendo usado próximo da necessidade real.\n",
        "*   Se houver inadimplência baixa, pode-se testar aumentos graduais de limite para clientes com maior utilização inicial\n",
        "\n",
        "#### **Considerações Finais:**\n",
        "\n",
        "Funil parece equilibrado, mas com espaço de redução de propostas abandonadas e calibragem das políticas de crédito (a entender) - Ponto de corte e política de crédito concentrando recusas.\n",
        "Alta taxa de utilização inicial positiva\n",
        "Inadimplência concentrada em poucos Ramos.\n",
        "Bureau 1 Mais restritivo.\n",
        "\n",
        "\n",
        "#### **Dificuldades que enfrentei e reflexões:**\n",
        "\n",
        "Instalação do Oracle para utilização de sintaxe, tive que encontrar outra forma de realizar.\n",
        "Necessidade de maior entendimento dos dados e bases, tentei dar o máximo para cálculo dos valores e lógica aplicada.\n",
        "Optei por usar o notebook para resposta pois seria mais desafiador e englobaria mais pontos de processo ETL. Ainda tenho muito a evoluir, mas espero ter demonstrado potencial.\n",
        "\n",
        "\n",
        "## **Obrigado!**\n",
        "\n"
      ],
      "metadata": {
        "id": "AhmkFJFF-Jqb"
      }
    }
  ]
}